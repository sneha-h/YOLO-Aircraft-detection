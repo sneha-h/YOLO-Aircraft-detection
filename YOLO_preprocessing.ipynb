{
  "nbformat": 4,
  "nbformat_minor": 0,
  "metadata": {
    "colab": {
      "provenance": []
    },
    "kernelspec": {
      "name": "python3",
      "display_name": "Python 3"
    },
    "language_info": {
      "name": "python"
    }
  },
  "cells": [
    {
      "cell_type": "markdown",
      "metadata": {
        "id": "wL60QZXE2TrJ",
        "tags": []
      },
      "source": [
        "# Data Pre-processing:\n",
        "\n",
        "Converting the default *Military Aircraft Detection Dataset* in to yolo format dataset"
      ]
    },
    {
      "cell_type": "code",
      "execution_count": null,
      "metadata": {
        "execution": {
          "iopub.execute_input": "2024-05-04T21:40:56.296156Z",
          "iopub.status.busy": "2024-05-04T21:40:56.296001Z",
          "iopub.status.idle": "2024-05-04T21:40:58.837949Z",
          "shell.execute_reply": "2024-05-04T21:40:58.837420Z",
          "shell.execute_reply.started": "2024-05-04T21:40:56.296139Z"
        },
        "id": "VLvWS-S52RUR",
        "outputId": "cecdd49d-aa4f-44fb-ad7e-48d7c5c4be50"
      },
      "outputs": [
        {
          "name": "stdout",
          "output_type": "stream",
          "text": [
            "Requirement already satisfied: glob2 in /usr/local/lib/python3.11/dist-packages (0.7)\n",
            "Requirement already satisfied: pytest-shutil in /usr/local/lib/python3.11/dist-packages (1.7.0)\n",
            "Requirement already satisfied: cv-3 in /usr/local/lib/python3.11/dist-packages (1.2.0)\n",
            "Requirement already satisfied: os.path2 in /usr/local/lib/python3.11/dist-packages (0.0.4)\n",
            "Requirement already satisfied: tqdm in /usr/local/lib/python3.11/dist-packages (4.66.1)\n",
            "Collecting pickleshare\n",
            "  Downloading pickleshare-0.7.5-py2.py3-none-any.whl.metadata (1.5 kB)\n",
            "Requirement already satisfied: six in /usr/lib/python3/dist-packages (from pytest-shutil) (1.16.0)\n",
            "Requirement already satisfied: execnet in /usr/local/lib/python3.11/dist-packages (from pytest-shutil) (2.1.1)\n",
            "Requirement already satisfied: contextlib2 in /usr/local/lib/python3.11/dist-packages (from pytest-shutil) (21.6.0)\n",
            "Requirement already satisfied: pytest in /usr/local/lib/python3.11/dist-packages (from pytest-shutil) (8.2.0)\n",
            "Requirement already satisfied: path.py in /usr/local/lib/python3.11/dist-packages (from pytest-shutil) (12.5.0)\n",
            "Requirement already satisfied: mock in /usr/local/lib/python3.11/dist-packages (from pytest-shutil) (5.1.0)\n",
            "Requirement already satisfied: termcolor in /usr/local/lib/python3.11/dist-packages (from pytest-shutil) (2.4.0)\n",
            "Requirement already satisfied: numpy>=1.19.5 in /usr/local/lib/python3.11/dist-packages (from cv-3) (1.26.3)\n",
            "Requirement already satisfied: opencv-python>=4.2.0.34 in /usr/local/lib/python3.11/dist-packages (from cv-3) (4.8.0.76)\n",
            "Requirement already satisfied: path in /usr/local/lib/python3.11/dist-packages (from path.py->pytest-shutil) (16.14.0)\n",
            "Requirement already satisfied: iniconfig in /usr/local/lib/python3.11/dist-packages (from pytest->pytest-shutil) (2.0.0)\n",
            "Requirement already satisfied: packaging in /usr/local/lib/python3.11/dist-packages (from pytest->pytest-shutil) (23.2)\n",
            "Requirement already satisfied: pluggy<2.0,>=1.5 in /usr/local/lib/python3.11/dist-packages (from pytest->pytest-shutil) (1.5.0)\n",
            "Downloading pickleshare-0.7.5-py2.py3-none-any.whl (6.9 kB)\n",
            "Installing collected packages: pickleshare\n",
            "Successfully installed pickleshare-0.7.5\n",
            "\u001b[33mWARNING: Running pip as the 'root' user can result in broken permissions and conflicting behaviour with the system package manager. It is recommended to use a virtual environment instead: https://pip.pypa.io/warnings/venv\u001b[0m\u001b[33m\n",
            "\u001b[0mNote: you may need to restart the kernel to use updated packages.\n"
          ]
        }
      ],
      "source": [
        "%pip install glob2 pytest-shutil cv-3 os.path2 tqdm pickleshare"
      ]
    },
    {
      "cell_type": "code",
      "execution_count": null,
      "metadata": {
        "execution": {
          "iopub.execute_input": "2024-05-04T21:36:11.482781Z",
          "iopub.status.busy": "2024-05-04T21:36:11.482535Z",
          "iopub.status.idle": "2024-05-04T21:36:13.469032Z",
          "shell.execute_reply": "2024-05-04T21:36:13.468526Z",
          "shell.execute_reply.started": "2024-05-04T21:36:11.482761Z"
        },
        "id": "qyTBLuiGkWVa"
      },
      "outputs": [],
      "source": [
        "import numpy as np\n",
        "import pandas as pd\n",
        "import matplotlib.pyplot as plt\n",
        "import glob\n",
        "import shutil\n",
        "import cv2\n",
        "import os\n",
        "import yaml\n",
        "from tqdm import tqdm"
      ]
    },
    {
      "cell_type": "code",
      "execution_count": null,
      "metadata": {
        "colab": {
          "base_uri": "https://localhost:8080/"
        },
        "execution": {
          "iopub.execute_input": "2024-05-06T00:16:29.578797Z",
          "iopub.status.busy": "2024-05-06T00:16:29.578292Z",
          "iopub.status.idle": "2024-05-06T00:16:40.915682Z",
          "shell.execute_reply": "2024-05-06T00:16:40.915104Z",
          "shell.execute_reply.started": "2024-05-06T00:16:29.578755Z"
        },
        "id": "ksdlrA3Bu9F2",
        "outputId": "65bff241-d1b7-450a-a455-f379beb0b73c",
        "tags": []
      },
      "outputs": [
        {
          "name": "stdout",
          "output_type": "stream",
          "text": [
            "Ultralytics YOLOv8.2.9 🚀 Python-3.11.7 torch-2.1.1+cu121 CUDA:0 (NVIDIA RTX A4000, 16109MiB)\n",
            "Setup complete ✅ (8 CPUs, 44.1 GB RAM, 96.1/244.2 GB disk)\n"
          ]
        }
      ],
      "source": [
        "%pip install ultralytics\n",
        "import ultralytics\n",
        "ultralytics.checks()"
      ]
    },
    {
      "cell_type": "code",
      "execution_count": null,
      "metadata": {
        "colab": {
          "base_uri": "https://localhost:8080/"
        },
        "id": "kIH1ET3Ju90W",
        "outputId": "fbf51b8a-ab00-4aed-ba45-21dd81501e8a",
        "tags": []
      },
      "outputs": [
        {
          "name": "stdout",
          "output_type": "stream",
          "text": [
            "47\n"
          ]
        }
      ],
      "source": [
        "# Different type of Aircrafts\n",
        "classes = np.array(['A10','A400M','AG600','AV8B',\n",
        "        'B1','B2','B52','Be200',\n",
        "        'C130','C2','C17','C5','E2','E7','EF2000',\n",
        "        'F117','F14','F15','F16','F18','F22','F35','F4',\n",
        "        'JAS39','MQ9','Mig31','Mirage2000','P3','RQ4','Rafale',\n",
        "        'SR71','Su34','Su57',\n",
        "        'Tu160','Tu95','Tornado',\n",
        "        'U2','US2', 'V22','XB70','YF23','Vulcan','J20',\n",
        "        'KC135', 'J10', 'Su25', 'Su24']\n",
        ")\n",
        "\n",
        "# Number of classes\n",
        "print(len(classes))"
      ]
    },
    {
      "cell_type": "markdown",
      "metadata": {
        "id": "EN1SSLUi3FKl"
      },
      "source": [
        "**Using the files from dataset folder**"
      ]
    },
    {
      "cell_type": "code",
      "execution_count": null,
      "metadata": {
        "colab": {
          "base_uri": "https://localhost:8080/"
        },
        "id": "78ucSH8GvACm",
        "outputId": "365f799b-ecb4-48fb-afd8-dd34745f4813"
      },
      "outputs": [
        {
          "name": "stdout",
          "output_type": "stream",
          "text": [
            "num of images: 13442 \n",
            "num of jpgs: 13442\n"
          ]
        }
      ],
      "source": [
        "# Paths and directories to be used in next step for conversion of original csv's into yolo format txt files\n",
        "csv_paths = glob.glob('dataset/*.csv')\n",
        "jpg_paths = glob.glob('dataset/*.jpg')\n",
        "csv_paths.sort()\n",
        "jpg_paths.sort()\n",
        "\n",
        "# Number of images and Number of jpgs files\n",
        "print(f'num of images: {len(csv_paths)} \\nnum of jpgs: {len(jpg_paths)}')\n",
        "\n",
        "# Creating folders for each class\n",
        "for cls in classes:\n",
        "  os.makedirs(f'yolo_classes/images/{cls}', exist_ok=True)\n",
        "  os.makedirs(f'yolo_classes/labels/{cls}', exist_ok=True)"
      ]
    },
    {
      "cell_type": "markdown",
      "metadata": {
        "id": "Sos9ma_Z5Xn3"
      },
      "source": [
        "**Default csv labels: width, height, class, xmin, ymin, xmax, ymax**\n",
        "\n",
        "**Target label structure: class_num, x_center, y_center, width, heigth**"
      ]
    },
    {
      "cell_type": "code",
      "execution_count": null,
      "metadata": {
        "id": "VefsNiRtgfAO"
      },
      "outputs": [],
      "source": [
        "# Converting original dataset csv files into yolo format dataset txt files\n",
        "for i, (csv_path, jpg_path) in enumerate(tqdm(zip(csv_paths, jpg_paths))):\n",
        "    annotations = np.array(pd.read_csv(csv_path))\n",
        "    # print(f'Annotations: {annotations}')\n",
        "\n",
        "    cls = ''\n",
        "    for annot in annotations:\n",
        "      cls = class_name = annot[3]\n",
        "\n",
        "    jpg_file_path = f'yolo_classes/images/{cls}/' + os.path.basename(jpg_path)\n",
        "    txt_file_path = f'yolo_classes/labels/{cls}/' + os.path.basename(csv_path)[:-4]+'.txt'\n",
        "    shutil.copy(jpg_path, jpg_file_path)\n",
        "    # print(f'Images and Text files - {jpg_file_path}, {txt_file_path}')\n",
        "\n",
        "    with open(txt_file_path, mode='w') as f:\n",
        "        try:\n",
        "            for annotation in annotations:\n",
        "                width = annotation[1]\n",
        "                height = annotation[2]\n",
        "                class_name = annotation[3]\n",
        "\n",
        "                # Calculating the x/y values for x_center and y_center\n",
        "                xmin = annotation[4]\n",
        "                ymin = annotation[5]\n",
        "                xmax = annotation[6]\n",
        "                ymax = annotation[7]\n",
        "                x_center = 0.5*(xmin+xmax)\n",
        "                y_center = 0.5*(ymin+ymax)\n",
        "\n",
        "                b_width = xmax - xmin\n",
        "                b_height= ymax - ymin\n",
        "                class_num = np.where(classes==class_name)[0][0]\n",
        "                output_string = '{} {} {} {} {}\\n'.format(class_num,\n",
        "                                                        x_center/width,\n",
        "                                                        y_center/height,\n",
        "                                                        b_width/width,\n",
        "                                                        b_height/height)\n",
        "                # print(f'Output String: {output_string}')\n",
        "                f.write(output_string)\n",
        "        except:\n",
        "            print(f'text file path: {txt_file_path}')\n",
        "            0/0\n",
        "\n",
        "print('finished')"
      ]
    },
    {
      "cell_type": "code",
      "execution_count": null,
      "metadata": {
        "id": "HD3M6yRW2RUZ",
        "outputId": "304572ca-6d1f-46bd-aab7-201afea7fdd1"
      },
      "outputs": [
        {
          "name": "stdout",
          "output_type": "stream",
          "text": [
            "yolo_classes jpg 13442\n",
            "yolo_classes labels 13442\n",
            "Original dataset jpg 13442\n",
            "Original dataset labels 13442\n"
          ]
        }
      ],
      "source": [
        "# Comparing lengths of yolo_classes images/txts with original dataset ones\n",
        "print('yolo_classes jpg',len(glob.glob('yolo_classes/images/*/*.jpg')))\n",
        "print('yolo_classes labels',len(glob.glob('yolo_classes/labels/*/*.txt')))\n",
        "print('Original dataset jpg',len(glob.glob('dataset/*.jpg')))\n",
        "print('Original dataset labels',len(glob.glob('dataset/*.csv')))"
      ]
    },
    {
      "cell_type": "code",
      "execution_count": null,
      "metadata": {
        "id": "XGSUKtQhjtEJ",
        "outputId": "9593d23a-cf09-413b-c3a6-f8e293b6a36f"
      },
      "outputs": [
        {
          "name": "stdout",
          "output_type": "stream",
          "text": [
            "Requirement already satisfied: split-folders in /opt/anaconda3/lib/python3.11/site-packages (0.5.1)\n"
          ]
        }
      ],
      "source": [
        "!pip install split-folders"
      ]
    },
    {
      "cell_type": "code",
      "execution_count": null,
      "metadata": {
        "id": "BViDj7nY2RUa",
        "outputId": "0cb0351a-7f41-437b-bdb7-9cff9662e68c"
      },
      "outputs": [
        {
          "name": "stderr",
          "output_type": "stream",
          "text": [
            "Copying files: 13442 files [01:06, 203.39 files/s]\n",
            "Copying files: 13442 files [00:09, 1357.25 files/s]\n"
          ]
        }
      ],
      "source": [
        "# Split the dataset with a ratio 80, 10, 10 for modes: train, val, test resp.\n",
        "import splitfolders\n",
        "\n",
        "input_folder = 'yolo_classes/images'\n",
        "output_folder = 'yolo_format_dataset/images'\n",
        "input_folder_labels = 'yolo_classes/labels'\n",
        "output_folder_labels = 'yolo_format_dataset/labels'\n",
        "\n",
        "# To only split into training and validation set, set a tuple to `ratio`, i.e, `(.8, .1, .1)`.\n",
        "splitfolders.ratio(input_folder, output=output_folder, seed=1337, ratio=(.8, .1, .1), group_prefix=None, move=False) # default values\n",
        "splitfolders.ratio(input_folder_labels, output=output_folder_labels, seed=1337, ratio=(.8, .1, .1), group_prefix=None, move=False) # default values"
      ]
    },
    {
      "cell_type": "code",
      "execution_count": null,
      "metadata": {
        "id": "hV2c4emi2RUa",
        "outputId": "5cd4d8fb-73b1-4069-f1cc-3604d8f96010"
      },
      "outputs": [
        {
          "name": "stdout",
          "output_type": "stream",
          "text": [
            "yolo_format_dataset train 10735\n",
            "yolo_format_dataset val 1320\n",
            "yolo_format_dataset test 1387\n",
            "Images count 13442\n",
            "yolo_format_dataset train 10735\n",
            "yolo_format_dataset val 1320\n",
            "yolo_format_dataset test 1387\n",
            "Label counts 13442\n"
          ]
        }
      ],
      "source": [
        "# Checking lengths of yolo_format_dataset images\n",
        "print('yolo_format_dataset train',len(glob.glob('yolo_format_dataset/images/train/*/*.jpg')))\n",
        "print('yolo_format_dataset val',len(glob.glob('yolo_format_dataset/images/val/*/*.jpg')))\n",
        "print('yolo_format_dataset test',len(glob.glob('yolo_format_dataset/images/test/*/*.jpg')))\n",
        "print('Images count', len(glob.glob('yolo_format_dataset/images/train/*/*.jpg')) + len(glob.glob('yolo_format_dataset/images/val/*/*.jpg')) + len(glob.glob('yolo_format_dataset/images/test/*/*.jpg')))\n",
        "\n",
        "# Checking lengths of yolo_format_dataset labels\n",
        "print('yolo_format_dataset train',len(glob.glob('yolo_format_dataset/labels/train/*/*.txt')))\n",
        "print('yolo_format_dataset val',len(glob.glob('yolo_format_dataset/labels/val/*/*.txt')))\n",
        "print('yolo_format_dataset test',len(glob.glob('yolo_format_dataset/labels/test/*/*.txt')))\n",
        "print('Label counts', len(glob.glob('yolo_format_dataset/labels/train/*/*.txt')) + len(glob.glob('yolo_format_dataset/labels/val/*/*.txt')) + len(glob.glob('yolo_format_dataset/labels/test/*/*.txt')))"
      ]
    },
    {
      "cell_type": "code",
      "execution_count": null,
      "metadata": {
        "id": "qZ2uC0Un2RUb",
        "outputId": "9a4388b1-0b6d-47e4-d0ca-0014a86a5059"
      },
      "outputs": [
        {
          "name": "stderr",
          "output_type": "stream",
          "text": [
            "10735it [00:00, 513905.76it/s]\n",
            "1320it [00:00, 465446.09it/s]\n",
            "1387it [00:00, 500947.18it/s]"
          ]
        },
        {
          "name": "stdout",
          "output_type": "stream",
          "text": [
            "13442\n"
          ]
        },
        {
          "name": "stderr",
          "output_type": "stream",
          "text": [
            "\n"
          ]
        }
      ],
      "source": [
        "# Verifying whether the split dataset is correctly divided for both jpg's and txt files for corresponding mode's (train/val/test)\n",
        "MODE=['train', 'val', 'test']\n",
        "counter = 0\n",
        "for mode in MODE:\n",
        "    txt_paths = glob.glob(f'yolo_format_dataset/labels/{mode}/*/*.txt')\n",
        "    jpgs = glob.glob(f'yolo_format_dataset/images/{mode}/*/*.jpg')\n",
        "    txt_paths.sort()\n",
        "    jpgs.sort()\n",
        "    for i, (txt_path, jpg) in enumerate(tqdm(zip(txt_paths, jpgs))):\n",
        "        jpg_file_path = os.path.basename(jpg)[:-4]\n",
        "        txt_file_path = os.path.basename(txt_path)[:-4]\n",
        "        counter += 1\n",
        "        # print(f'{jpg_file_path} and {txt_file_path}')\n",
        "        if jpg_file_path != txt_file_path:\n",
        "            print(f'{txt_file_path} is a mismatch')\n",
        "        # elif jpg_file_path == txt_file_path:\n",
        "        #     print(f'{txt_file_path} is in {txt_path} and {jpg}')\n",
        "\n",
        "print(counter)"
      ]
    },
    {
      "cell_type": "markdown",
      "metadata": {
        "id": "sEtSV7h97kKh"
      },
      "source": [
        "Rearranging the final input dataset for training will be in below format:\n",
        "\n",
        "\n",
        "\n",
        "    yolo_final_dataset/\n",
        "\n",
        "        images/\n",
        "            train/*.jpg\n",
        "            val/*.jpg\n",
        "            test/*.jpg\n",
        "\n",
        "        labels/\n",
        "            train/*.txt\n",
        "            val/*.txt\n",
        "            test/*.txt  "
      ]
    },
    {
      "cell_type": "code",
      "execution_count": null,
      "metadata": {
        "id": "S9HS7Fpe2RUb"
      },
      "outputs": [],
      "source": [
        "# Create a final dataset which has to be in the yolo format -> yolo_final_dataset/images/{mode:train/val/test}/*.jpg\n",
        "for mode in MODE:\n",
        "    os.makedirs(f'yolo_final_dataset/images/{mode}', exist_ok=True)\n",
        "    os.makedirs(f'yolo_final_dataset/labels/{mode}', exist_ok=True)\n",
        "    img_path_src = glob.glob(f'yolo_format_dataset/images/{mode}/*/*.jpg')\n",
        "    txt_path_src = glob.glob(f'yolo_format_dataset/labels/{mode}/*/*.txt')\n",
        "    img_path_dest = glob.glob(f'yolo_final_dataset/images/{mode}/.')\n",
        "    txt_path_dest = glob.glob(f'yolo_final_dataset/labels/{mode}/.')\n",
        "    # print(img_path_dest[0])\n",
        "    # print(txt_path_dest[0])\n",
        "    for img in img_path_src:\n",
        "        # print(img)\n",
        "        shutil.copy(img, img_path_dest[0])\n",
        "    for txt in txt_path_src:\n",
        "        # print(txt)\n",
        "        shutil.copy(txt, txt_path_dest[0])"
      ]
    },
    {
      "cell_type": "code",
      "execution_count": null,
      "metadata": {
        "id": "rVbCNMsR2RUb",
        "outputId": "70cc6d03-699e-4401-f884-b8b7c27a088e"
      },
      "outputs": [
        {
          "name": "stdout",
          "output_type": "stream",
          "text": [
            "yolo_final_dataset train 10735\n",
            "yolo_final_dataset val 1320\n",
            "yolo_final_dataset test 1387\n",
            "Images count 13442\n",
            "yolo_final_dataset train 10735\n",
            "yolo_final_dataset val 1320\n",
            "yolo_final_dataset test 1387\n",
            "Label counts 13442\n"
          ]
        }
      ],
      "source": [
        "# Checking lengths of yolo_final_dataset images\n",
        "print('yolo_final_dataset train',len(glob.glob('yolo_final_dataset/images/train/*.jpg')))\n",
        "print('yolo_final_dataset val',len(glob.glob('yolo_final_dataset/images/val/*.jpg')))\n",
        "print('yolo_final_dataset test',len(glob.glob('yolo_final_dataset/images/test/*.jpg')))\n",
        "print('Images count', len(glob.glob('yolo_final_dataset/images/train/*.jpg')) + len(glob.glob('yolo_final_dataset/images/val/*.jpg')) + len(glob.glob('yolo_final_dataset/images/test/*.jpg')))\n",
        "\n",
        "# Checking lengths of yolo_final_dataset labels\n",
        "print('yolo_final_dataset train',len(glob.glob('yolo_final_dataset/labels/train/*.txt')))\n",
        "print('yolo_final_dataset val',len(glob.glob('yolo_final_dataset/labels/val/*.txt')))\n",
        "print('yolo_final_dataset test',len(glob.glob('yolo_final_dataset/labels/test/*.txt')))\n",
        "print('Label counts', len(glob.glob('yolo_final_dataset/labels/train/*.txt')) + len(glob.glob('yolo_final_dataset/labels/val/*.txt')) + len(glob.glob('yolo_final_dataset/labels/test/*.txt')))"
      ]
    },
    {
      "cell_type": "code",
      "execution_count": null,
      "metadata": {
        "id": "wH77ID8A2RUc"
      },
      "outputs": [],
      "source": [
        "# Deleting folder recursively even for read-only files\n",
        "def rmtree(path):\n",
        "    if not os.path.exists(path):\n",
        "        return 'Folder does not exist'\n",
        "    DIR_READ_WRITE = 0o700\n",
        "    FILE_READ_WRITE = 0o600\n",
        "    def remove_readonly(func, path, _):\n",
        "        \"Clear the readonly bit and reattempt the removal\"\n",
        "        os.chmod(path, FILE_READ_WRITE)\n",
        "        func(path)\n",
        "\n",
        "    # set all directories as read/write\n",
        "    os.chmod(path, DIR_READ_WRITE)\n",
        "    for root, dirs, files in os.walk(path):\n",
        "        for d in dirs:\n",
        "            os.chmod(os.path.join(root, d), DIR_READ_WRITE)\n",
        "\n",
        "    shutil.rmtree(path, onerror=remove_readonly)"
      ]
    },
    {
      "cell_type": "code",
      "execution_count": null,
      "metadata": {
        "id": "etr2OF9V2RUc",
        "outputId": "4229825b-4ae6-4754-ab66-7409629eb9cd"
      },
      "outputs": [
        {
          "data": {
            "text/plain": [
              "'Folder does not exits'"
            ]
          },
          "execution_count": 126,
          "metadata": {},
          "output_type": "execute_result"
        }
      ],
      "source": [
        "# No need for yolo_classes and yolo_format_dataset folders anymore and therefore deleting them\n",
        "rmtree('yolo_classes')\n",
        "rmtree('yolo_format_dataset')"
      ]
    },
    {
      "cell_type": "code",
      "execution_count": null,
      "metadata": {
        "execution": {
          "iopub.execute_input": "2024-05-04T21:42:02.803651Z",
          "iopub.status.busy": "2024-05-04T21:42:02.803387Z",
          "iopub.status.idle": "2024-05-04T21:44:15.324718Z",
          "shell.execute_reply": "2024-05-04T21:44:15.324112Z",
          "shell.execute_reply.started": "2024-05-04T21:42:02.803627Z"
        },
        "id": "3ADy1e5i19-V",
        "outputId": "20774222-6503-43a1-dc2c-3bd7233e715a"
      },
      "outputs": [
        {
          "name": "stdout",
          "output_type": "stream",
          "text": [
            "/notebooks\n"
          ]
        }
      ],
      "source": [
        "# Unzipping the yolo_final_dataset.zip\n",
        "%cd /notebooks/\n",
        "\n",
        "shutil.unpack_archive('/notebooks/yolo_final_dataset.zip','yolo_final_dataset','zip')"
      ]
    },
    {
      "cell_type": "code",
      "execution_count": null,
      "metadata": {
        "execution": {
          "iopub.execute_input": "2024-05-04T21:55:29.391654Z",
          "iopub.status.busy": "2024-05-04T21:55:29.391013Z",
          "iopub.status.idle": "2024-05-04T21:55:29.397152Z",
          "shell.execute_reply": "2024-05-04T21:55:29.396573Z",
          "shell.execute_reply.started": "2024-05-04T21:55:29.391646Z"
        },
        "id": "yIN-XPJcMdqQ"
      },
      "outputs": [],
      "source": [
        "# Creating yaml file\n",
        "def generate_yaml(train_path, val_path, names, nc, base):\n",
        "    data = {\n",
        "        \"train\": train_path,\n",
        "        \"val\": val_path,\n",
        "        \"names\": names,\n",
        "        \"nc\": nc\n",
        "    }\n",
        "\n",
        "    with open(os.path.join(base, 'training_data.yaml'), 'w') as outfile:\n",
        "        yaml.dump(data, outfile, default_flow_style=False)\n",
        "\n",
        "img_path_train = '/notebooks/yolo_final_dataset/images/train'\n",
        "img_path_val = '/notebooks/yolo_final_dataset/images/val'\n",
        "base = '/notebooks/'\n",
        "Alabels = classes.tolist()\n",
        "names = {i: name for i, name in enumerate(Alabels)}\n",
        "nc = len(Alabels)\n",
        "generate_yaml(img_path_train, img_path_val, names, nc, base)"
      ]
    },
    {
      "cell_type": "code",
      "execution_count": null,
      "metadata": {
        "id": "rCILldRM2RUc",
        "outputId": "8637c2c8-81eb-4352-d82d-cd33403b86bd"
      },
      "outputs": [
        {
          "data": {
            "text/plain": [
              "'/Users/taneya-pavitra/Documents/Personal/Learning-Study/MSc in Artificial Intelligence - University of Surrey/Year Feb 24 - Feb 25/Semester 2/Applied Machine Learning (EEEM068)/CourseWork/Aircraft_Classification/yolo_final_dataset.zip'"
            ]
          },
          "execution_count": 97,
          "metadata": {},
          "output_type": "execute_result"
        }
      ],
      "source": [
        "# zip the yolo_final_dataset folder\n",
        "shutil.make_archive('yolo_final_dataset', 'zip', 'yolo_final_dataset')"
      ]
    },
    {
      "cell_type": "code",
      "execution_count": null,
      "metadata": {
        "id": "kzOyMXIK2RUc",
        "outputId": "16949974-8ba2-42eb-a092-2f2599ffbf18"
      },
      "outputs": [
        {
          "data": {
            "text/plain": [
              "'Folder does not exits'"
            ]
          },
          "execution_count": 127,
          "metadata": {},
          "output_type": "execute_result"
        }
      ],
      "source": [
        "# No need for yolo_final_dataset folder as well and therefore deleting it\n",
        "rmtree('yolo_final_dataset')"
      ]
    }
  ]
}