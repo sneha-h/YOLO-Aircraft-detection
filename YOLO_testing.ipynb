{
  "nbformat": 4,
  "nbformat_minor": 0,
  "metadata": {
    "colab": {
      "provenance": []
    },
    "kernelspec": {
      "name": "python3",
      "display_name": "Python 3"
    },
    "language_info": {
      "name": "python"
    }
  },
  "cells": [
    {
      "cell_type": "markdown",
      "source": [
        "# Test Predictions based on trained weights for respective augmentation"
      ],
      "metadata": {
        "id": "l-39EneK5NTt"
      }
    },
    {
      "cell_type": "markdown",
      "metadata": {
        "id": "fa4cb0a8-c7a2-45d5-8bec-fe5580804af2"
      },
      "source": [
        "## Setup"
      ]
    },
    {
      "cell_type": "code",
      "execution_count": null,
      "metadata": {
        "id": "10566fb0-aa86-4c02-a858-9e984a401e2b"
      },
      "outputs": [],
      "source": [
        "from ultralytics import YOLO"
      ]
    },
    {
      "cell_type": "code",
      "execution_count": null,
      "metadata": {
        "id": "54ad45d5-9a92-4400-ab59-fdd80bcd7b95"
      },
      "outputs": [],
      "source": [
        "TEST_PATH=\"../../datasets/yolo_final_dataset/images/test/\""
      ]
    },
    {
      "cell_type": "markdown",
      "metadata": {
        "id": "6460f072-3ae4-4aef-8931-3a8ff3690c72"
      },
      "source": [
        "## YOLOv8m Default 50"
      ]
    },
    {
      "cell_type": "code",
      "execution_count": null,
      "metadata": {
        "id": "0f130a90-4789-42b0-812e-585fa294cb1c"
      },
      "outputs": [],
      "source": [
        "model = YOLO(\"./yolov8m_default_50.pt\")"
      ]
    },
    {
      "cell_type": "code",
      "execution_count": null,
      "metadata": {
        "scrolled": true,
        "id": "2dc50d79-30c8-4010-92ce-3206b44a9318",
        "outputId": "e119773f-4041-4820-b1b3-dce80cf2a4d6"
      },
      "outputs": [
        {
          "name": "stdout",
          "output_type": "stream",
          "text": [
            "Ultralytics YOLOv8.1.34 🚀 Python-3.12.2 torch-2.2.1+cu121 CUDA:0 (NVIDIA GeForce RTX 2060, 5920MiB)\n",
            "Model summary (fused): 218 layers, 25866973 parameters, 0 gradients, 78.8 GFLOPs\n"
          ]
        },
        {
          "name": "stderr",
          "output_type": "stream",
          "text": [
            "\u001b[34m\u001b[1mval: \u001b[0mScanning /home/sam/Projects/AML_Coursework/my_work/datasets/labels/val.cache... 1320 images\u001b[0m"
          ]
        },
        {
          "name": "stdout",
          "output_type": "stream",
          "text": [
            "\u001b[34m\u001b[1mval: \u001b[0mWARNING ⚠️ /home/sam/Projects/AML_Coursework/my_work/datasets/images/val/393ff29b0978ed06efe8911631e1791e.jpg: corrupt JPEG restored and saved\n",
            "\u001b[34m\u001b[1mval: \u001b[0mWARNING ⚠️ /home/sam/Projects/AML_Coursework/my_work/datasets/images/val/53407a519525715fe10f141958cd543a.jpg: corrupt JPEG restored and saved\n",
            "\u001b[34m\u001b[1mval: \u001b[0mWARNING ⚠️ /home/sam/Projects/AML_Coursework/my_work/datasets/images/val/92711e787a2bf1173dc4afb5f40418e4.jpg: corrupt JPEG restored and saved\n",
            "\u001b[34m\u001b[1mval: \u001b[0mWARNING ⚠️ /home/sam/Projects/AML_Coursework/my_work/datasets/images/val/c95b4fd51b689de2f0d7b161b11b7c9e.jpg: corrupt JPEG restored and saved\n"
          ]
        },
        {
          "name": "stderr",
          "output_type": "stream",
          "text": [
            "\n",
            "                 Class     Images  Instances      Box(P          R      mAP50  mAP50-95): 100%|█\n"
          ]
        },
        {
          "name": "stdout",
          "output_type": "stream",
          "text": [
            "                   all       1320       2239      0.808      0.712      0.806      0.735\n",
            "                   A10       1320         59      0.782      0.797       0.87      0.792\n",
            "                 A400M       1320         43      0.833      0.628      0.779      0.725\n",
            "                 AG600       1320         20      0.948      0.909       0.99      0.959\n",
            "                  AV8B       1320         40      0.837        0.9       0.92      0.846\n",
            "                    B1       1320         60      0.827        0.8      0.848      0.762\n",
            "                    B2       1320         57      0.892      0.872      0.931      0.846\n",
            "                   B52       1320         47      0.809      0.719      0.791      0.697\n",
            "                 Be200       1320         24      0.994       0.75      0.802      0.748\n",
            "                  C130       1320        101      0.816      0.663      0.763      0.682\n",
            "                    C2       1320         81      0.902      0.908       0.96      0.926\n",
            "                   C17       1320         63      0.802      0.746      0.817      0.765\n",
            "                    C5       1320         35      0.873      0.788      0.841       0.76\n",
            "                    E2       1320         32      0.876      0.625      0.815      0.666\n",
            "                    E7       1320         14      0.886      0.786      0.938      0.907\n",
            "                EF2000       1320         55      0.657      0.557      0.652      0.609\n",
            "                  F117       1320         26      0.953      0.783       0.87      0.803\n",
            "                   F14       1320         42      0.895      0.619       0.78      0.744\n",
            "                   F15       1320        136      0.734      0.699      0.801      0.722\n",
            "                   F16       1320        200      0.676      0.532      0.732      0.606\n",
            "                   F18       1320         93      0.571      0.545      0.615      0.536\n",
            "                   F22       1320         46      0.649      0.696      0.652      0.535\n",
            "                   F35       1320        100       0.74      0.741      0.793      0.708\n",
            "                    F4       1320         52      0.743      0.673      0.767      0.695\n",
            "                 JAS39       1320         42      0.623      0.667      0.688      0.601\n",
            "                   MQ9       1320         29      0.889      0.897      0.904      0.826\n",
            "                 Mig31       1320         45      0.703      0.378      0.502      0.463\n",
            "            Mirage2000       1320         25      0.608      0.682      0.766      0.735\n",
            "                    P3       1320         38      0.855      0.711      0.851      0.724\n",
            "                   RQ4       1320         32      0.843       0.75      0.803      0.744\n",
            "                Rafale       1320         49      0.773      0.694      0.791       0.71\n",
            "                  SR71       1320         36       0.82      0.722      0.861      0.679\n",
            "                  Su34       1320         38      0.911      0.809      0.903      0.847\n",
            "                  Su57       1320         34      0.766      0.647      0.759      0.729\n",
            "                 Tu160       1320         38      0.792      0.602      0.778      0.738\n",
            "                  Tu95       1320         36      0.961      0.688      0.853      0.704\n",
            "               Tornado       1320         37      0.884      0.568      0.646      0.631\n",
            "                    U2       1320         25      0.729       0.76      0.796      0.758\n",
            "                   US2       1320         54      0.886      0.926      0.941      0.894\n",
            "                   V22       1320         71      0.883      0.746      0.846       0.73\n",
            "                  XB70       1320         15       0.72      0.857      0.913       0.82\n",
            "                  YF23       1320         10      0.861        0.8      0.924      0.874\n",
            "                Vulcan       1320         32      0.745      0.781      0.776      0.753\n",
            "                   J20       1320         35      0.874      0.857      0.914      0.908\n",
            "                 KC135       1320         18      0.746      0.722       0.79      0.698\n",
            "                   J10       1320         38      0.869      0.526      0.805      0.706\n",
            "                  Su25       1320         20      0.763      0.324      0.659      0.568\n",
            "                  Su24       1320         16       0.76      0.625      0.673      0.658\n",
            "Speed: 0.3ms preprocess, 13.1ms inference, 0.0ms loss, 0.7ms postprocess per image\n",
            "Results saved to \u001b[1mruns/detect/val11\u001b[0m\n"
          ]
        }
      ],
      "source": [
        "preds = model.val(data=\"dataset.yaml\")"
      ]
    },
    {
      "cell_type": "markdown",
      "metadata": {
        "id": "36490cec-864c-4c7b-b541-e7e5018ded1a"
      },
      "source": [
        "## YOLOv8m Default 150"
      ]
    },
    {
      "cell_type": "code",
      "execution_count": null,
      "metadata": {
        "id": "5d1264d3-fde8-4960-b989-fe3923e7a3d0"
      },
      "outputs": [],
      "source": [
        "model = YOLO(\"./yolov8m_default_150.pt\")"
      ]
    },
    {
      "cell_type": "code",
      "execution_count": null,
      "metadata": {
        "scrolled": true,
        "id": "4083f39b-c023-4149-8a47-ff4216ce8b3f",
        "outputId": "c30c12de-4033-410b-f6a2-a312aba85a06"
      },
      "outputs": [
        {
          "name": "stdout",
          "output_type": "stream",
          "text": [
            "Ultralytics YOLOv8.1.34 🚀 Python-3.12.2 torch-2.2.1+cu121 CUDA:0 (NVIDIA GeForce RTX 2060, 5920MiB)\n",
            "Model summary (fused): 218 layers, 25866973 parameters, 0 gradients, 78.8 GFLOPs\n"
          ]
        },
        {
          "name": "stderr",
          "output_type": "stream",
          "text": [
            "\u001b[34m\u001b[1mval: \u001b[0mScanning /home/sam/Projects/AML_Coursework/my_work/datasets/labels/val.cache... 1320 images\u001b[0m"
          ]
        },
        {
          "name": "stdout",
          "output_type": "stream",
          "text": [
            "\u001b[34m\u001b[1mval: \u001b[0mWARNING ⚠️ /home/sam/Projects/AML_Coursework/my_work/datasets/images/val/393ff29b0978ed06efe8911631e1791e.jpg: corrupt JPEG restored and saved\n",
            "\u001b[34m\u001b[1mval: \u001b[0mWARNING ⚠️ /home/sam/Projects/AML_Coursework/my_work/datasets/images/val/53407a519525715fe10f141958cd543a.jpg: corrupt JPEG restored and saved\n",
            "\u001b[34m\u001b[1mval: \u001b[0mWARNING ⚠️ /home/sam/Projects/AML_Coursework/my_work/datasets/images/val/92711e787a2bf1173dc4afb5f40418e4.jpg: corrupt JPEG restored and saved\n",
            "\u001b[34m\u001b[1mval: \u001b[0mWARNING ⚠️ /home/sam/Projects/AML_Coursework/my_work/datasets/images/val/c95b4fd51b689de2f0d7b161b11b7c9e.jpg: corrupt JPEG restored and saved\n"
          ]
        },
        {
          "name": "stderr",
          "output_type": "stream",
          "text": [
            "\n",
            "                 Class     Images  Instances      Box(P          R      mAP50  mAP50-95): 100%|█\n"
          ]
        },
        {
          "name": "stdout",
          "output_type": "stream",
          "text": [
            "                   all       1320       2239      0.909      0.789      0.878      0.806\n",
            "                   A10       1320         59      0.879      0.881      0.955      0.853\n",
            "                 A400M       1320         43          1      0.667      0.883      0.801\n",
            "                 AG600       1320         20      0.939          1       0.99       0.97\n",
            "                  AV8B       1320         40      0.971      0.844      0.933      0.873\n",
            "                    B1       1320         60      0.922       0.85      0.893      0.792\n",
            "                    B2       1320         57      0.945      0.912      0.945      0.862\n",
            "                   B52       1320         47      0.779      0.751      0.798      0.711\n",
            "                 Be200       1320         24      0.896       0.75       0.86      0.823\n",
            "                  C130       1320        101      0.893       0.74      0.845      0.749\n",
            "                    C2       1320         81      0.949      0.926      0.971      0.946\n",
            "                   C17       1320         63      0.946      0.794      0.915      0.845\n",
            "                    C5       1320         35      0.876      0.886      0.897      0.842\n",
            "                    E2       1320         32      0.887       0.75       0.85      0.774\n",
            "                    E7       1320         14      0.959      0.857      0.898      0.881\n",
            "                EF2000       1320         55      0.836      0.649      0.813      0.732\n",
            "                  F117       1320         26      0.875      0.885      0.915       0.84\n",
            "                   F14       1320         42       0.94      0.747      0.863      0.841\n",
            "                   F15       1320        136      0.842      0.782      0.889      0.803\n",
            "                   F16       1320        200      0.837      0.555      0.753      0.666\n",
            "                   F18       1320         93      0.707      0.688      0.733      0.645\n",
            "                   F22       1320         46      0.746       0.63      0.713      0.598\n",
            "                   F35       1320        100      0.762       0.79      0.818      0.732\n",
            "                    F4       1320         52      0.974       0.72      0.828      0.767\n",
            "                 JAS39       1320         42      0.851       0.81      0.873      0.773\n",
            "                   MQ9       1320         29      0.973      0.897      0.937      0.841\n",
            "                 Mig31       1320         45      0.955      0.469      0.741      0.652\n",
            "            Mirage2000       1320         25      0.954      0.831      0.931      0.897\n",
            "                    P3       1320         38      0.977      0.816      0.887      0.769\n",
            "                   RQ4       1320         32          1      0.738      0.816      0.726\n",
            "                Rafale       1320         49      0.778      0.786      0.834      0.772\n",
            "                  SR71       1320         36      0.947      0.861      0.902      0.752\n",
            "                  Su34       1320         38      0.985      0.895      0.962      0.885\n",
            "                  Su57       1320         34      0.971      0.824      0.862      0.812\n",
            "                 Tu160       1320         38      0.948      0.789      0.943      0.869\n",
            "                  Tu95       1320         36      0.965      0.774      0.914      0.766\n",
            "               Tornado       1320         37       0.88      0.597      0.794      0.763\n",
            "                    U2       1320         25      0.911      0.815      0.905      0.815\n",
            "                   US2       1320         54      0.948      0.981      0.986      0.951\n",
            "                   V22       1320         71      0.929      0.803      0.896      0.739\n",
            "                  XB70       1320         15      0.835      0.933      0.971      0.881\n",
            "                  YF23       1320         10          1      0.882      0.962      0.951\n",
            "                Vulcan       1320         32      0.911      0.844      0.924      0.895\n",
            "                   J20       1320         35      0.939      0.884      0.952      0.937\n",
            "                 KC135       1320         18       0.82      0.758      0.904       0.85\n",
            "                   J10       1320         38          1      0.622      0.744      0.663\n",
            "                  Su25       1320         20      0.977        0.8      0.911      0.821\n",
            "                  Su24       1320         16      0.905      0.625      0.752      0.738\n",
            "Speed: 0.2ms preprocess, 13.1ms inference, 0.0ms loss, 0.8ms postprocess per image\n",
            "Results saved to \u001b[1mruns/detect/val12\u001b[0m\n"
          ]
        }
      ],
      "source": [
        "preds = model.val(data=\"dataset.yaml\")"
      ]
    },
    {
      "cell_type": "markdown",
      "metadata": {
        "id": "7970f0a2-c3ab-4a68-bf2c-a59851baa49e"
      },
      "source": [
        "## YOLOv8m Resize 50"
      ]
    },
    {
      "cell_type": "code",
      "execution_count": null,
      "metadata": {
        "id": "264e98b2-5ddc-4bac-9a14-fd9587dcd4ab"
      },
      "outputs": [],
      "source": [
        "model = YOLO(\"./yolov8m_resize_50.pt\")"
      ]
    },
    {
      "cell_type": "code",
      "execution_count": null,
      "metadata": {
        "scrolled": true,
        "id": "9761a351-0ba0-4981-b0a7-60dab256d70d",
        "outputId": "585766e4-2490-4948-ec67-f7d8c7b803bd"
      },
      "outputs": [
        {
          "name": "stdout",
          "output_type": "stream",
          "text": [
            "Ultralytics YOLOv8.1.34 🚀 Python-3.12.2 torch-2.2.1+cu121 CUDA:0 (NVIDIA GeForce RTX 2060, 5920MiB)\n",
            "Model summary (fused): 218 layers, 25866973 parameters, 0 gradients, 78.8 GFLOPs\n"
          ]
        },
        {
          "name": "stderr",
          "output_type": "stream",
          "text": [
            "\u001b[34m\u001b[1mval: \u001b[0mScanning /home/sam/Projects/AML_Coursework/my_work/datasets/labels/val.cache... 1320 images\u001b[0m"
          ]
        },
        {
          "name": "stdout",
          "output_type": "stream",
          "text": [
            "\u001b[34m\u001b[1mval: \u001b[0mWARNING ⚠️ /home/sam/Projects/AML_Coursework/my_work/datasets/images/val/393ff29b0978ed06efe8911631e1791e.jpg: corrupt JPEG restored and saved\n",
            "\u001b[34m\u001b[1mval: \u001b[0mWARNING ⚠️ /home/sam/Projects/AML_Coursework/my_work/datasets/images/val/53407a519525715fe10f141958cd543a.jpg: corrupt JPEG restored and saved\n",
            "\u001b[34m\u001b[1mval: \u001b[0mWARNING ⚠️ /home/sam/Projects/AML_Coursework/my_work/datasets/images/val/92711e787a2bf1173dc4afb5f40418e4.jpg: corrupt JPEG restored and saved\n",
            "\u001b[34m\u001b[1mval: \u001b[0mWARNING ⚠️ /home/sam/Projects/AML_Coursework/my_work/datasets/images/val/c95b4fd51b689de2f0d7b161b11b7c9e.jpg: corrupt JPEG restored and saved\n"
          ]
        },
        {
          "name": "stderr",
          "output_type": "stream",
          "text": [
            "\n",
            "                 Class     Images  Instances      Box(P          R      mAP50  mAP50-95): 100%|█\n"
          ]
        },
        {
          "name": "stdout",
          "output_type": "stream",
          "text": [
            "                   all       1320       2239      0.832      0.629      0.743      0.677\n",
            "                   A10       1320         59       0.91      0.862      0.885      0.787\n",
            "                 A400M       1320         43      0.887      0.605      0.811      0.756\n",
            "                 AG600       1320         20      0.948       0.75      0.952      0.906\n",
            "                  AV8B       1320         40      0.823      0.581      0.788      0.704\n",
            "                    B1       1320         60      0.754      0.664      0.736       0.65\n",
            "                    B2       1320         57      0.853      0.825       0.89      0.814\n",
            "                   B52       1320         47      0.806      0.681      0.745      0.657\n",
            "                 Be200       1320         24      0.937       0.62      0.789      0.728\n",
            "                  C130       1320        101      0.807      0.622      0.754      0.662\n",
            "                    C2       1320         81      0.905      0.936      0.957      0.927\n",
            "                   C17       1320         63      0.756      0.698      0.769      0.691\n",
            "                    C5       1320         35      0.871      0.714      0.816      0.759\n",
            "                    E2       1320         32      0.909      0.625      0.714      0.619\n",
            "                    E7       1320         14      0.957      0.714       0.81      0.789\n",
            "                EF2000       1320         55      0.665        0.4      0.563      0.499\n",
            "                  F117       1320         26      0.796      0.692       0.82      0.777\n",
            "                   F14       1320         42      0.723      0.524      0.679      0.646\n",
            "                   F15       1320        136      0.807      0.705       0.78       0.68\n",
            "                   F16       1320        200      0.643       0.49      0.663      0.541\n",
            "                   F18       1320         93      0.644      0.581      0.638      0.549\n",
            "                   F22       1320         46      0.756       0.54      0.612      0.527\n",
            "                   F35       1320        100      0.654        0.7      0.697      0.636\n",
            "                    F4       1320         52      0.845       0.63      0.701      0.659\n",
            "                 JAS39       1320         42      0.792      0.544      0.668      0.585\n",
            "                   MQ9       1320         29      0.835      0.759      0.861      0.789\n",
            "                 Mig31       1320         45      0.723      0.244      0.359      0.319\n",
            "            Mirage2000       1320         25      0.944       0.32       0.52      0.509\n",
            "                    P3       1320         38      0.903      0.737      0.839      0.725\n",
            "                   RQ4       1320         32      0.857      0.656      0.768      0.689\n",
            "                Rafale       1320         49      0.635      0.604      0.659      0.543\n",
            "                  SR71       1320         36      0.786      0.528      0.624      0.505\n",
            "                  Su34       1320         38      0.871      0.737      0.867      0.819\n",
            "                  Su57       1320         34      0.876      0.624      0.787      0.762\n",
            "                 Tu160       1320         38      0.949      0.488      0.766      0.722\n",
            "                  Tu95       1320         36      0.924      0.639      0.791      0.692\n",
            "               Tornado       1320         37      0.814      0.514      0.601      0.579\n",
            "                    U2       1320         25      0.873        0.6      0.832      0.776\n",
            "                   US2       1320         54       0.92      0.852      0.912      0.884\n",
            "                   V22       1320         71      0.909      0.662      0.823      0.683\n",
            "                  XB70       1320         15      0.974        0.8      0.832      0.779\n",
            "                  YF23       1320         10      0.883        0.8      0.848      0.807\n",
            "                Vulcan       1320         32      0.953      0.636      0.781      0.711\n",
            "                   J20       1320         35      0.739       0.73      0.808      0.808\n",
            "                 KC135       1320         18      0.843      0.599      0.678        0.6\n",
            "                   J10       1320         38          1      0.281      0.523      0.472\n",
            "                  Su25       1320         20      0.808        0.6      0.731       0.61\n",
            "                  Su24       1320         16      0.648      0.461      0.492      0.487\n",
            "Speed: 0.2ms preprocess, 13.3ms inference, 0.0ms loss, 0.8ms postprocess per image\n",
            "Results saved to \u001b[1mruns/detect/val13\u001b[0m\n"
          ]
        }
      ],
      "source": [
        "preds = model.val(data=\"dataset.yaml\")"
      ]
    },
    {
      "cell_type": "markdown",
      "metadata": {
        "id": "4472e676-00e4-4623-9534-b1441775e84a"
      },
      "source": [
        "## YOLOv8m FlipLR 50"
      ]
    },
    {
      "cell_type": "code",
      "execution_count": null,
      "metadata": {
        "id": "3315e8ef-b382-4ae2-af79-463487b1db82"
      },
      "outputs": [],
      "source": [
        "model = YOLO(\"./yolov8m_fliplr_50.pt\")"
      ]
    },
    {
      "cell_type": "code",
      "execution_count": null,
      "metadata": {
        "scrolled": true,
        "id": "b2aab8ac-2d49-4b6b-8380-611d9663a1e8",
        "outputId": "459f26de-0958-4a23-b045-aee48c66b2a6"
      },
      "outputs": [
        {
          "name": "stdout",
          "output_type": "stream",
          "text": [
            "Ultralytics YOLOv8.1.34 🚀 Python-3.12.2 torch-2.2.1+cu121 CUDA:0 (NVIDIA GeForce RTX 2060, 5920MiB)\n",
            "Model summary (fused): 218 layers, 25866973 parameters, 0 gradients, 78.8 GFLOPs\n"
          ]
        },
        {
          "name": "stderr",
          "output_type": "stream",
          "text": [
            "\u001b[34m\u001b[1mval: \u001b[0mScanning /home/sam/Projects/AML_Coursework/my_work/datasets/labels/val.cache... 1320 images\u001b[0m"
          ]
        },
        {
          "name": "stdout",
          "output_type": "stream",
          "text": [
            "\u001b[34m\u001b[1mval: \u001b[0mWARNING ⚠️ /home/sam/Projects/AML_Coursework/my_work/datasets/images/val/393ff29b0978ed06efe8911631e1791e.jpg: corrupt JPEG restored and saved\n",
            "\u001b[34m\u001b[1mval: \u001b[0mWARNING ⚠️ /home/sam/Projects/AML_Coursework/my_work/datasets/images/val/53407a519525715fe10f141958cd543a.jpg: corrupt JPEG restored and saved\n",
            "\u001b[34m\u001b[1mval: \u001b[0mWARNING ⚠️ /home/sam/Projects/AML_Coursework/my_work/datasets/images/val/92711e787a2bf1173dc4afb5f40418e4.jpg: corrupt JPEG restored and saved\n",
            "\u001b[34m\u001b[1mval: \u001b[0mWARNING ⚠️ /home/sam/Projects/AML_Coursework/my_work/datasets/images/val/c95b4fd51b689de2f0d7b161b11b7c9e.jpg: corrupt JPEG restored and saved\n"
          ]
        },
        {
          "name": "stderr",
          "output_type": "stream",
          "text": [
            "\n",
            "                 Class     Images  Instances      Box(P          R      mAP50  mAP50-95): 100%|█\n"
          ]
        },
        {
          "name": "stdout",
          "output_type": "stream",
          "text": [
            "                   all       1320       2239      0.706        0.6      0.672      0.611\n",
            "                   A10       1320         59      0.887       0.78      0.859      0.781\n",
            "                 A400M       1320         43      0.772      0.552      0.671      0.625\n",
            "                 AG600       1320         20      0.796      0.781      0.896      0.855\n",
            "                  AV8B       1320         40      0.927      0.634      0.778      0.695\n",
            "                    B1       1320         60      0.607      0.633      0.645      0.577\n",
            "                    B2       1320         57      0.835      0.825      0.867      0.792\n",
            "                   B52       1320         47      0.544      0.596      0.662      0.598\n",
            "                 Be200       1320         24      0.836      0.667       0.75      0.655\n",
            "                  C130       1320        101       0.71      0.594      0.697      0.624\n",
            "                    C2       1320         81      0.812      0.877       0.87      0.832\n",
            "                   C17       1320         63      0.627      0.506      0.667      0.595\n",
            "                    C5       1320         35      0.665      0.714      0.761       0.71\n",
            "                    E2       1320         32       0.95       0.59       0.68      0.595\n",
            "                    E7       1320         14          1      0.688      0.855      0.844\n",
            "                EF2000       1320         55      0.426      0.431      0.377      0.344\n",
            "                  F117       1320         26      0.802      0.615      0.734      0.635\n",
            "                   F14       1320         42      0.513      0.381      0.471      0.437\n",
            "                   F15       1320        136      0.566      0.669      0.684      0.602\n",
            "                   F16       1320        200      0.616       0.54      0.598      0.495\n",
            "                   F18       1320         93      0.398      0.559      0.488      0.426\n",
            "                   F22       1320         46      0.393      0.522      0.482      0.423\n",
            "                   F35       1320        100       0.63      0.596      0.649      0.587\n",
            "                    F4       1320         52      0.529      0.442      0.549      0.519\n",
            "                 JAS39       1320         42      0.506      0.429       0.48       0.42\n",
            "                   MQ9       1320         29       0.78      0.862       0.83      0.751\n",
            "                 Mig31       1320         45      0.554        0.2      0.266      0.247\n",
            "            Mirage2000       1320         25       0.67       0.48      0.548      0.533\n",
            "                    P3       1320         38      0.962      0.665      0.806      0.726\n",
            "                   RQ4       1320         32      0.684      0.625      0.683      0.657\n",
            "                Rafale       1320         49       0.58      0.551      0.576      0.496\n",
            "                  SR71       1320         36      0.783      0.556      0.638        0.5\n",
            "                  Su34       1320         38      0.895      0.674      0.764      0.692\n",
            "                  Su57       1320         34      0.618      0.559      0.615      0.601\n",
            "                 Tu160       1320         38      0.874      0.546       0.78       0.72\n",
            "                  Tu95       1320         36      0.924      0.667      0.788      0.689\n",
            "               Tornado       1320         37      0.692      0.487      0.573      0.549\n",
            "                    U2       1320         25       0.71       0.64      0.742      0.689\n",
            "                   US2       1320         54      0.897      0.808        0.9      0.848\n",
            "                   V22       1320         71      0.917      0.676      0.778      0.691\n",
            "                  XB70       1320         15      0.716      0.667      0.824       0.68\n",
            "                  YF23       1320         10      0.653        0.9      0.916      0.827\n",
            "                Vulcan       1320         32      0.543        0.5      0.583      0.558\n",
            "                   J20       1320         35      0.853      0.657      0.822      0.816\n",
            "                 KC135       1320         18      0.595      0.573      0.604      0.576\n",
            "                   J10       1320         38      0.901      0.241      0.382      0.325\n",
            "                  Su25       1320         20      0.702        0.6      0.695      0.596\n",
            "                  Su24       1320         16      0.324      0.438      0.305      0.297\n",
            "Speed: 0.2ms preprocess, 12.9ms inference, 0.0ms loss, 0.5ms postprocess per image\n",
            "Results saved to \u001b[1mruns/detect/val14\u001b[0m\n"
          ]
        }
      ],
      "source": [
        "preds = model.val(data=\"dataset.yaml\")"
      ]
    },
    {
      "cell_type": "markdown",
      "metadata": {
        "id": "f97dbc68-6865-4aa1-9c30-064403099b09"
      },
      "source": [
        "## YOLOv8m No Augmentation 50"
      ]
    },
    {
      "cell_type": "code",
      "execution_count": null,
      "metadata": {
        "id": "4e3fa10a-5491-484f-8097-0b1d1b211eed"
      },
      "outputs": [],
      "source": [
        "model = YOLO(\"./yolov8m_no_aug_50.pt\")"
      ]
    },
    {
      "cell_type": "code",
      "execution_count": null,
      "metadata": {
        "scrolled": true,
        "id": "d4c253b4-43ec-49a7-9111-a1e71742ed25",
        "outputId": "e14e939f-e9f9-4499-a93e-8ffebfd70716"
      },
      "outputs": [
        {
          "name": "stdout",
          "output_type": "stream",
          "text": [
            "Ultralytics YOLOv8.1.34 🚀 Python-3.12.2 torch-2.2.1+cu121 CUDA:0 (NVIDIA GeForce RTX 2060, 5920MiB)\n",
            "Model summary (fused): 218 layers, 25866973 parameters, 0 gradients, 78.8 GFLOPs\n"
          ]
        },
        {
          "name": "stderr",
          "output_type": "stream",
          "text": [
            "\u001b[34m\u001b[1mval: \u001b[0mScanning /home/sam/Projects/AML_Coursework/my_work/datasets/labels/val.cache... 1320 images\u001b[0m"
          ]
        },
        {
          "name": "stdout",
          "output_type": "stream",
          "text": [
            "\u001b[34m\u001b[1mval: \u001b[0mWARNING ⚠️ /home/sam/Projects/AML_Coursework/my_work/datasets/images/val/393ff29b0978ed06efe8911631e1791e.jpg: corrupt JPEG restored and saved\n",
            "\u001b[34m\u001b[1mval: \u001b[0mWARNING ⚠️ /home/sam/Projects/AML_Coursework/my_work/datasets/images/val/53407a519525715fe10f141958cd543a.jpg: corrupt JPEG restored and saved\n",
            "\u001b[34m\u001b[1mval: \u001b[0mWARNING ⚠️ /home/sam/Projects/AML_Coursework/my_work/datasets/images/val/92711e787a2bf1173dc4afb5f40418e4.jpg: corrupt JPEG restored and saved\n",
            "\u001b[34m\u001b[1mval: \u001b[0mWARNING ⚠️ /home/sam/Projects/AML_Coursework/my_work/datasets/images/val/c95b4fd51b689de2f0d7b161b11b7c9e.jpg: corrupt JPEG restored and saved\n"
          ]
        },
        {
          "name": "stderr",
          "output_type": "stream",
          "text": [
            "\n",
            "                 Class     Images  Instances      Box(P          R      mAP50  mAP50-95): 100%|█\n"
          ]
        },
        {
          "name": "stdout",
          "output_type": "stream",
          "text": [
            "                   all       1320       2239      0.728      0.502      0.601      0.544\n",
            "                   A10       1320         59      0.846      0.654       0.76      0.701\n",
            "                 A400M       1320         43      0.719      0.488      0.634      0.593\n",
            "                 AG600       1320         20      0.883      0.755      0.906      0.851\n",
            "                  AV8B       1320         40      0.835      0.525      0.641       0.58\n",
            "                    B1       1320         60      0.753      0.667      0.707      0.627\n",
            "                    B2       1320         57      0.809      0.737      0.807      0.728\n",
            "                   B52       1320         47      0.575      0.574      0.619      0.582\n",
            "                 Be200       1320         24      0.903        0.5      0.664      0.593\n",
            "                  C130       1320        101       0.71      0.557      0.644      0.571\n",
            "                    C2       1320         81      0.859       0.84      0.886      0.847\n",
            "                   C17       1320         63      0.768      0.524      0.699      0.613\n",
            "                    C5       1320         35      0.753      0.524      0.675      0.637\n",
            "                    E2       1320         32      0.878      0.451      0.612      0.511\n",
            "                    E7       1320         14      0.923      0.571      0.773      0.768\n",
            "                EF2000       1320         55      0.453      0.327      0.341      0.303\n",
            "                  F117       1320         26      0.696        0.5      0.597      0.536\n",
            "                   F14       1320         42      0.649      0.429      0.574      0.535\n",
            "                   F15       1320        136      0.618      0.588      0.622      0.554\n",
            "                   F16       1320        200      0.594      0.403      0.522      0.436\n",
            "                   F18       1320         93      0.431      0.383      0.407      0.347\n",
            "                   F22       1320         46       0.44      0.435      0.424      0.357\n",
            "                   F35       1320        100      0.638       0.49      0.543      0.478\n",
            "                    F4       1320         52       0.63      0.423      0.471      0.439\n",
            "                 JAS39       1320         42      0.492        0.3      0.338       0.27\n",
            "                   MQ9       1320         29      0.762      0.621      0.744      0.563\n",
            "                 Mig31       1320         45      0.815      0.244       0.35      0.314\n",
            "            Mirage2000       1320         25      0.571       0.32       0.37      0.354\n",
            "                    P3       1320         38      0.919      0.595      0.717      0.592\n",
            "                   RQ4       1320         32      0.725      0.578      0.635      0.595\n",
            "                Rafale       1320         49      0.726      0.327      0.467      0.414\n",
            "                  SR71       1320         36      0.783      0.417      0.515      0.451\n",
            "                  Su34       1320         38      0.915       0.57      0.739      0.686\n",
            "                  Su57       1320         34      0.605      0.412      0.442      0.429\n",
            "                 Tu160       1320         38      0.847      0.436      0.645      0.593\n",
            "                  Tu95       1320         36      0.908      0.546      0.674       0.61\n",
            "               Tornado       1320         37      0.646      0.297      0.344       0.34\n",
            "                    U2       1320         25      0.577       0.32      0.498      0.445\n",
            "                   US2       1320         54      0.839      0.778      0.892      0.853\n",
            "                   V22       1320         71      0.954      0.634      0.767      0.662\n",
            "                  XB70       1320         15      0.901      0.733      0.782      0.646\n",
            "                  YF23       1320         10      0.925        0.8      0.858      0.852\n",
            "                Vulcan       1320         32      0.812      0.469      0.619       0.57\n",
            "                   J20       1320         35       0.71      0.543      0.682      0.682\n",
            "                 KC135       1320         18      0.717      0.444      0.522      0.468\n",
            "                   J10       1320         38      0.755      0.158      0.336      0.285\n",
            "                  Su25       1320         20      0.667       0.45      0.616      0.521\n",
            "                  Su24       1320         16      0.301       0.25      0.185      0.183\n",
            "Speed: 0.3ms preprocess, 13.3ms inference, 0.0ms loss, 0.6ms postprocess per image\n",
            "Results saved to \u001b[1mruns/detect/val16\u001b[0m\n"
          ]
        }
      ],
      "source": [
        "preds = model.val(data=\"dataset.yaml\")"
      ]
    },
    {
      "cell_type": "markdown",
      "metadata": {
        "id": "0b948ea4-d663-458f-a103-92fc23741463"
      },
      "source": [
        "## YOLOv5mu Default 50"
      ]
    },
    {
      "cell_type": "code",
      "execution_count": null,
      "metadata": {
        "id": "3e45612c-bbac-4345-b761-cc8d472dd71c"
      },
      "outputs": [],
      "source": [
        "model = YOLO(\"./yolov5m_default_50.pt\")"
      ]
    },
    {
      "cell_type": "code",
      "execution_count": null,
      "metadata": {
        "scrolled": true,
        "id": "2fcddb40-5274-4306-98d8-9af431b960ea",
        "outputId": "976197c2-dd2a-427f-b94a-dfbd058466ed"
      },
      "outputs": [
        {
          "name": "stdout",
          "output_type": "stream",
          "text": [
            "Ultralytics YOLOv8.1.34 🚀 Python-3.12.2 torch-2.2.1+cu121 CUDA:0 (NVIDIA GeForce RTX 2060, 5920MiB)\n",
            "YOLOv5m summary (fused): 248 layers, 25072429 parameters, 0 gradients, 64.1 GFLOPs\n"
          ]
        },
        {
          "name": "stderr",
          "output_type": "stream",
          "text": [
            "\u001b[34m\u001b[1mval: \u001b[0mScanning /home/sam/Projects/AML_Coursework/my_work/datasets/labels/val.cache... 1320 images\u001b[0m"
          ]
        },
        {
          "name": "stdout",
          "output_type": "stream",
          "text": [
            "\u001b[34m\u001b[1mval: \u001b[0mWARNING ⚠️ /home/sam/Projects/AML_Coursework/my_work/datasets/images/val/393ff29b0978ed06efe8911631e1791e.jpg: corrupt JPEG restored and saved\n",
            "\u001b[34m\u001b[1mval: \u001b[0mWARNING ⚠️ /home/sam/Projects/AML_Coursework/my_work/datasets/images/val/53407a519525715fe10f141958cd543a.jpg: corrupt JPEG restored and saved\n",
            "\u001b[34m\u001b[1mval: \u001b[0mWARNING ⚠️ /home/sam/Projects/AML_Coursework/my_work/datasets/images/val/92711e787a2bf1173dc4afb5f40418e4.jpg: corrupt JPEG restored and saved\n",
            "\u001b[34m\u001b[1mval: \u001b[0mWARNING ⚠️ /home/sam/Projects/AML_Coursework/my_work/datasets/images/val/c95b4fd51b689de2f0d7b161b11b7c9e.jpg: corrupt JPEG restored and saved\n"
          ]
        },
        {
          "name": "stderr",
          "output_type": "stream",
          "text": [
            "\n",
            "                 Class     Images  Instances      Box(P          R      mAP50  mAP50-95): 100%|█\n"
          ]
        },
        {
          "name": "stdout",
          "output_type": "stream",
          "text": [
            "                   all       1320       2239      0.884      0.738      0.847      0.769\n",
            "                   A10       1320         59       0.86      0.797      0.906      0.804\n",
            "                 A400M       1320         43          1      0.675      0.889      0.802\n",
            "                 AG600       1320         20      0.908      0.982      0.986      0.961\n",
            "                  AV8B       1320         40      0.937       0.85      0.898      0.838\n",
            "                    B1       1320         60      0.837      0.733       0.85      0.732\n",
            "                    B2       1320         57      0.871      0.842      0.908       0.81\n",
            "                   B52       1320         47      0.857      0.702      0.795      0.702\n",
            "                 Be200       1320         24          1      0.664      0.817      0.747\n",
            "                  C130       1320        101      0.855      0.693      0.837      0.741\n",
            "                    C2       1320         81      0.935      0.926      0.962      0.925\n",
            "                   C17       1320         63      0.875      0.777      0.874      0.784\n",
            "                    C5       1320         35      0.941      0.771      0.883      0.852\n",
            "                    E2       1320         32      0.837      0.812      0.912      0.751\n",
            "                    E7       1320         14      0.944      0.786      0.955      0.934\n",
            "                EF2000       1320         55      0.758      0.636      0.716       0.63\n",
            "                  F117       1320         26      0.908      0.846      0.909      0.827\n",
            "                   F14       1320         42      0.939      0.667      0.845      0.766\n",
            "                   F15       1320        136       0.86       0.75       0.87      0.781\n",
            "                   F16       1320        200      0.841      0.553      0.775      0.667\n",
            "                   F18       1320         93      0.636      0.624      0.687      0.605\n",
            "                   F22       1320         46       0.83      0.587      0.717      0.624\n",
            "                   F35       1320        100      0.799       0.78      0.825      0.731\n",
            "                    F4       1320         52      0.899      0.684      0.751      0.692\n",
            "                 JAS39       1320         42      0.564      0.667       0.73      0.648\n",
            "                   MQ9       1320         29      0.964      0.926      0.932      0.847\n",
            "                 Mig31       1320         45      0.861      0.412      0.681      0.606\n",
            "            Mirage2000       1320         25      0.962       0.52      0.778      0.742\n",
            "                    P3       1320         38      0.942      0.789      0.889       0.76\n",
            "                   RQ4       1320         32       0.96      0.748      0.824      0.764\n",
            "                Rafale       1320         49      0.761      0.694      0.762      0.673\n",
            "                  SR71       1320         36      0.934      0.791      0.873      0.686\n",
            "                  Su34       1320         38      0.941      0.844      0.894      0.829\n",
            "                  Su57       1320         34      0.925      0.728      0.819      0.775\n",
            "                 Tu160       1320         38      0.961      0.653      0.888      0.803\n",
            "                  Tu95       1320         36      0.878      0.798      0.909      0.785\n",
            "               Tornado       1320         37      0.943      0.649      0.781      0.735\n",
            "                    U2       1320         25      0.855        0.8      0.904      0.837\n",
            "                   US2       1320         54       0.96      0.944      0.979      0.927\n",
            "                   V22       1320         71      0.981      0.709      0.853      0.722\n",
            "                  XB70       1320         15       0.87       0.89      0.965      0.889\n",
            "                  YF23       1320         10      0.944        0.8      0.977      0.892\n",
            "                Vulcan       1320         32      0.858      0.758      0.887      0.849\n",
            "                   J20       1320         35      0.866      0.857      0.935      0.931\n",
            "                 KC135       1320         18      0.826      0.778      0.861      0.771\n",
            "                   J10       1320         38          1      0.353      0.542        0.5\n",
            "                  Su25       1320         20      0.965        0.9      0.935      0.827\n",
            "                  Su24       1320         16      0.699      0.562      0.656      0.646\n",
            "Speed: 0.2ms preprocess, 11.6ms inference, 0.0ms loss, 0.7ms postprocess per image\n",
            "Results saved to \u001b[1mruns/detect/val17\u001b[0m\n"
          ]
        }
      ],
      "source": [
        "preds = model.val(data=\"dataset.yaml\")"
      ]
    },
    {
      "cell_type": "markdown",
      "metadata": {
        "id": "fc64e346-9a27-4e23-9d42-1778237b56c2"
      },
      "source": [
        "## YOLOv8s Default 200"
      ]
    },
    {
      "cell_type": "code",
      "execution_count": null,
      "metadata": {
        "id": "0c12abaf-de4c-4ca5-bdd0-3d642ae6f648"
      },
      "outputs": [],
      "source": [
        "model = YOLO(\"./yolov8s_default_200.pt\")"
      ]
    },
    {
      "cell_type": "code",
      "execution_count": null,
      "metadata": {
        "id": "004fd51c-c49e-4daf-9be5-9be9046a88d4",
        "outputId": "cbbbbf6b-b366-4c2c-c207-44318bd6b1e2"
      },
      "outputs": [
        {
          "name": "stdout",
          "output_type": "stream",
          "text": [
            "Ultralytics YOLOv8.1.34 🚀 Python-3.12.2 torch-2.2.1+cu121 CUDA:0 (NVIDIA GeForce RTX 2060, 5920MiB)\n",
            "Model summary (fused): 168 layers, 11143773 parameters, 0 gradients, 28.5 GFLOPs\n"
          ]
        },
        {
          "name": "stderr",
          "output_type": "stream",
          "text": [
            "\u001b[34m\u001b[1mval: \u001b[0mScanning /home/sam/Projects/AML_Coursework/my_work/datasets/labels/val.cache... 1320 images\u001b[0m"
          ]
        },
        {
          "name": "stdout",
          "output_type": "stream",
          "text": [
            "\u001b[34m\u001b[1mval: \u001b[0mWARNING ⚠️ /home/sam/Projects/AML_Coursework/my_work/datasets/images/val/393ff29b0978ed06efe8911631e1791e.jpg: corrupt JPEG restored and saved\n",
            "\u001b[34m\u001b[1mval: \u001b[0mWARNING ⚠️ /home/sam/Projects/AML_Coursework/my_work/datasets/images/val/53407a519525715fe10f141958cd543a.jpg: corrupt JPEG restored and saved\n",
            "\u001b[34m\u001b[1mval: \u001b[0mWARNING ⚠️ /home/sam/Projects/AML_Coursework/my_work/datasets/images/val/92711e787a2bf1173dc4afb5f40418e4.jpg: corrupt JPEG restored and saved\n",
            "\u001b[34m\u001b[1mval: \u001b[0mWARNING ⚠️ /home/sam/Projects/AML_Coursework/my_work/datasets/images/val/c95b4fd51b689de2f0d7b161b11b7c9e.jpg: corrupt JPEG restored and saved\n"
          ]
        },
        {
          "name": "stderr",
          "output_type": "stream",
          "text": [
            "\n",
            "                 Class     Images  Instances      Box(P          R      mAP50  mAP50-95): 100%|█\n"
          ]
        },
        {
          "name": "stdout",
          "output_type": "stream",
          "text": [
            "                   all       1320       2239       0.88      0.721       0.83      0.747\n",
            "                   A10       1320         59      0.872      0.729      0.892      0.809\n",
            "                 A400M       1320         43      0.859      0.651      0.809       0.75\n",
            "                 AG600       1320         20      0.969       0.85      0.975      0.933\n",
            "                  AV8B       1320         40      0.902      0.825      0.853      0.796\n",
            "                    B1       1320         60      0.841      0.683      0.852      0.739\n",
            "                    B2       1320         57      0.906      0.877      0.926      0.816\n",
            "                   B52       1320         47      0.799      0.763      0.783       0.66\n",
            "                 Be200       1320         24        0.9      0.748      0.821      0.772\n",
            "                  C130       1320        101      0.893      0.662      0.823       0.72\n",
            "                    C2       1320         81       0.93      0.914       0.93      0.904\n",
            "                   C17       1320         63      0.884      0.728      0.893       0.81\n",
            "                    C5       1320         35      0.935      0.824      0.917      0.884\n",
            "                    E2       1320         32      0.954      0.651      0.803       0.65\n",
            "                    E7       1320         14      0.889      0.714      0.915      0.875\n",
            "                EF2000       1320         55      0.734      0.527      0.684      0.613\n",
            "                  F117       1320         26      0.912      0.846      0.889      0.789\n",
            "                   F14       1320         42      0.801      0.575      0.796      0.745\n",
            "                   F15       1320        136      0.845      0.722      0.846      0.737\n",
            "                   F16       1320        200      0.834      0.527      0.773      0.613\n",
            "                   F18       1320         93      0.809      0.677      0.761      0.664\n",
            "                   F22       1320         46      0.733      0.543      0.663      0.574\n",
            "                   F35       1320        100      0.795      0.735      0.807      0.705\n",
            "                    F4       1320         52      0.826      0.692      0.765      0.701\n",
            "                 JAS39       1320         42      0.731      0.762      0.805      0.698\n",
            "                   MQ9       1320         29      0.972      0.862      0.914      0.805\n",
            "                 Mig31       1320         45      0.952      0.444      0.689      0.605\n",
            "            Mirage2000       1320         25       0.87       0.64      0.758      0.709\n",
            "                    P3       1320         38      0.969      0.842      0.895      0.726\n",
            "                   RQ4       1320         32      0.831      0.688      0.768      0.721\n",
            "                Rafale       1320         49      0.761      0.673      0.736      0.651\n",
            "                  SR71       1320         36      0.893      0.693      0.841       0.63\n",
            "                  Su34       1320         38      0.908      0.779      0.904      0.825\n",
            "                  Su57       1320         34      0.965      0.676      0.798      0.749\n",
            "                 Tu160       1320         38      0.959      0.711      0.891      0.815\n",
            "                  Tu95       1320         36      0.986      0.667      0.886      0.712\n",
            "               Tornado       1320         37      0.841      0.574      0.743      0.712\n",
            "                    U2       1320         25      0.822       0.88      0.856      0.794\n",
            "                   US2       1320         54      0.941      0.926      0.952      0.894\n",
            "                   V22       1320         71      0.939       0.69      0.836      0.701\n",
            "                  XB70       1320         15          1      0.839      0.937      0.833\n",
            "                  YF23       1320         10      0.942        0.8      0.857      0.842\n",
            "                Vulcan       1320         32      0.923      0.749      0.879      0.845\n",
            "                   J20       1320         35      0.956      0.857      0.909      0.892\n",
            "                 KC135       1320         18      0.786      0.833      0.847      0.772\n",
            "                   J10       1320         38          1      0.454      0.631      0.552\n",
            "                  Su25       1320         20      0.814        0.8      0.916      0.788\n",
            "                  Su24       1320         16      0.755      0.562      0.605       0.58\n",
            "Speed: 0.2ms preprocess, 6.0ms inference, 0.0ms loss, 0.8ms postprocess per image\n",
            "Results saved to \u001b[1mruns/detect/val18\u001b[0m\n"
          ]
        }
      ],
      "source": [
        "preds = model.val(data=\"dataset.yaml\")"
      ]
    }
  ]
}