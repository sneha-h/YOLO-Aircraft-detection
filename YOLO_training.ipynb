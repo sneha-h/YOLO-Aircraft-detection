{
  "nbformat": 4,
  "nbformat_minor": 0,
  "metadata": {
    "colab": {
      "provenance": []
    },
    "kernelspec": {
      "name": "python3",
      "display_name": "Python 3"
    },
    "language_info": {
      "name": "python"
    }
  },
  "cells": [
    {
      "cell_type": "markdown",
      "metadata": {
        "id": "hylIU_6M2gmd"
      },
      "source": [
        "# Training:\n",
        "\n",
        "Using the yolo_final_dataset from 'data pre-processing step' as an input for training"
      ]
    },
    {
      "cell_type": "code",
      "execution_count": null,
      "metadata": {
        "execution": {
          "iopub.execute_input": "2024-05-06T00:16:40.917031Z",
          "iopub.status.busy": "2024-05-06T00:16:40.916747Z",
          "iopub.status.idle": "2024-05-06T00:16:40.920995Z",
          "shell.execute_reply": "2024-05-06T00:16:40.920511Z",
          "shell.execute_reply.started": "2024-05-06T00:16:40.916992Z"
        },
        "id": "D6no3AtH_PiV",
        "tags": []
      },
      "outputs": [],
      "source": [
        "from ultralytics import YOLO"
      ]
    },
    {
      "cell_type": "markdown",
      "metadata": {
        "id": "gOCj1xsd-wYI"
      },
      "source": [
        "## Model: yolov8m.pt\n",
        "Epochs: 50\n",
        "\n",
        "Other hyper-parameters are being kept as default"
      ]
    },
    {
      "cell_type": "code",
      "execution_count": null,
      "metadata": {
        "execution": {
          "iopub.execute_input": "2024-05-06T00:16:40.921932Z",
          "iopub.status.busy": "2024-05-06T00:16:40.921767Z",
          "iopub.status.idle": "2024-05-06T00:16:41.607832Z",
          "shell.execute_reply": "2024-05-06T00:16:41.607202Z",
          "shell.execute_reply.started": "2024-05-06T00:16:40.921877Z"
        },
        "id": "Hky0m96Z_Jmg",
        "tags": []
      },
      "outputs": [],
      "source": [
        "yolo8_m_model = YOLO(\"yolov8m.pt\")"
      ]
    },
    {
      "cell_type": "markdown",
      "metadata": {
        "id": "RqYI4rmK_E3v"
      },
      "source": [
        "### Without Augmentation:\n",
        "\n",
        "    hsv_h: 0\n",
        "    hsv_s: 0\n",
        "    hsv_v: 0\n",
        "    degrees: 0\n",
        "    translate: 0\n",
        "    scale: 0\n",
        "    shear: 0.0\n",
        "    perspective: 0.0\n",
        "    flipud: 0.0\n",
        "    fliplr: 0\n",
        "    bgr: 0.0\n",
        "    mosaic: 0\n",
        "    mixup: 0.0\n",
        "    copy_paste: 0.0\n",
        "    auto_augment: null\n",
        "    erasing: 0\n",
        "    crop_fraction: 1.0"
      ]
    },
    {
      "cell_type": "code",
      "execution_count": null,
      "metadata": {
        "id": "4j2x7an62RUd"
      },
      "outputs": [],
      "source": [
        "results = yolo8_m_model.train(\n",
        "    data='/notebooks/training_data.yaml',\n",
        "    epochs=50,\n",
        "    hsv_h=0,\n",
        "    hsv_s=0,\n",
        "    hsv_v=0,\n",
        "    degrees=0,\n",
        "    translate=0,\n",
        "    scale=0,\n",
        "    shear=0.0,\n",
        "    perspective=0.0,\n",
        "    flipud=0.0,\n",
        "    fliplr=0,\n",
        "    bgr=0.0,\n",
        "    mosaic=0,\n",
        "    mixup=0.0,\n",
        "    copy_paste=0.0,\n",
        "    auto_augment=None,\n",
        "    erasing=0,\n",
        "    crop_fraction=1.0,\n",
        "    save=True\n",
        ")"
      ]
    },
    {
      "cell_type": "markdown",
      "metadata": {
        "id": "nh1ULNEl_hXE"
      },
      "source": [
        "### Augmentation: Flip Left/Right\n",
        "\n",
        "    fliplr: 0.5"
      ]
    },
    {
      "cell_type": "code",
      "execution_count": null,
      "metadata": {
        "execution": {
          "iopub.execute_input": "2024-05-06T00:16:48.743374Z",
          "iopub.status.busy": "2024-05-06T00:16:48.742634Z"
        },
        "id": "zHFFnYP2_o7D",
        "outputId": "c0d5f715-473a-4fd2-d0cd-5c17b379401d"
      },
      "outputs": [
        {
          "name": "stdout",
          "output_type": "stream",
          "text": [
            "Ultralytics YOLOv8.2.9 🚀 Python-3.11.7 torch-2.1.1+cu121 CUDA:0 (NVIDIA RTX A4000, 16109MiB)\n",
            "\u001b[34m\u001b[1mengine/trainer: \u001b[0mtask=detect, mode=train, model=yolov8m.pt, data=/notebooks/training_data.yaml, epochs=50, time=None, patience=100, batch=16, imgsz=640, save=True, save_period=-1, cache=False, device=None, workers=8, project=None, name=train5, exist_ok=False, pretrained=True, optimizer=auto, verbose=True, seed=0, deterministic=True, single_cls=False, rect=False, cos_lr=False, close_mosaic=10, resume=False, amp=True, fraction=1.0, profile=False, freeze=None, multi_scale=False, overlap_mask=True, mask_ratio=4, dropout=0.0, val=True, split=val, save_json=False, save_hybrid=False, conf=None, iou=0.7, max_det=300, half=False, dnn=False, plots=True, source=None, vid_stride=1, stream_buffer=False, visualize=False, augment=False, agnostic_nms=False, classes=None, retina_masks=False, embed=None, show=False, save_frames=False, save_txt=False, save_conf=False, save_crop=False, show_labels=True, show_conf=True, show_boxes=True, line_width=None, format=torchscript, keras=False, optimize=False, int8=False, dynamic=False, simplify=False, opset=None, workspace=4, nms=False, lr0=0.01, lrf=0.01, momentum=0.937, weight_decay=0.0005, warmup_epochs=3.0, warmup_momentum=0.8, warmup_bias_lr=0.1, box=7.5, cls=0.5, dfl=1.5, pose=12.0, kobj=1.0, label_smoothing=0.0, nbs=64, hsv_h=0, hsv_s=0, hsv_v=0, degrees=0, translate=0, scale=0, shear=0.0, perspective=0.0, flipud=0.0, fliplr=0.5, bgr=0.0, mosaic=0, mixup=0.0, copy_paste=0.0, auto_augment=None, erasing=0, crop_fraction=1.0, cfg=None, tracker=botsort.yaml, save_dir=runs/detect/train5\n",
            "Downloading https://ultralytics.com/assets/Arial.ttf to '/root/.config/Ultralytics/Arial.ttf'...\n"
          ]
        },
        {
          "name": "stderr",
          "output_type": "stream",
          "text": [
            "100%|██████████| 755k/755k [00:00<00:00, 126MB/s]\n",
            "2024-05-06 00:16:51.141749: E external/local_xla/xla/stream_executor/cuda/cuda_dnn.cc:9261] Unable to register cuDNN factory: Attempting to register factory for plugin cuDNN when one has already been registered\n",
            "2024-05-06 00:16:51.141847: E external/local_xla/xla/stream_executor/cuda/cuda_fft.cc:607] Unable to register cuFFT factory: Attempting to register factory for plugin cuFFT when one has already been registered\n",
            "2024-05-06 00:16:51.222191: E external/local_xla/xla/stream_executor/cuda/cuda_blas.cc:1515] Unable to register cuBLAS factory: Attempting to register factory for plugin cuBLAS when one has already been registered\n"
          ]
        },
        {
          "name": "stdout",
          "output_type": "stream",
          "text": [
            "Overriding model.yaml nc=80 with nc=47\n",
            "\n",
            "                   from  n    params  module                                       arguments                     \n",
            "  0                  -1  1      1392  ultralytics.nn.modules.conv.Conv             [3, 48, 3, 2]                 \n",
            "  1                  -1  1     41664  ultralytics.nn.modules.conv.Conv             [48, 96, 3, 2]                \n",
            "  2                  -1  2    111360  ultralytics.nn.modules.block.C2f             [96, 96, 2, True]             \n",
            "  3                  -1  1    166272  ultralytics.nn.modules.conv.Conv             [96, 192, 3, 2]               \n",
            "  4                  -1  4    813312  ultralytics.nn.modules.block.C2f             [192, 192, 4, True]           \n",
            "  5                  -1  1    664320  ultralytics.nn.modules.conv.Conv             [192, 384, 3, 2]              \n",
            "  6                  -1  4   3248640  ultralytics.nn.modules.block.C2f             [384, 384, 4, True]           \n",
            "  7                  -1  1   1991808  ultralytics.nn.modules.conv.Conv             [384, 576, 3, 2]              \n",
            "  8                  -1  2   3985920  ultralytics.nn.modules.block.C2f             [576, 576, 2, True]           \n",
            "  9                  -1  1    831168  ultralytics.nn.modules.block.SPPF            [576, 576, 5]                 \n",
            " 10                  -1  1         0  torch.nn.modules.upsampling.Upsample         [None, 2, 'nearest']          \n",
            " 11             [-1, 6]  1         0  ultralytics.nn.modules.conv.Concat           [1]                           \n",
            " 12                  -1  2   1993728  ultralytics.nn.modules.block.C2f             [960, 384, 2]                 \n",
            " 13                  -1  1         0  torch.nn.modules.upsampling.Upsample         [None, 2, 'nearest']          \n",
            " 14             [-1, 4]  1         0  ultralytics.nn.modules.conv.Concat           [1]                           \n",
            " 15                  -1  2    517632  ultralytics.nn.modules.block.C2f             [576, 192, 2]                 \n",
            " 16                  -1  1    332160  ultralytics.nn.modules.conv.Conv             [192, 192, 3, 2]              \n",
            " 17            [-1, 12]  1         0  ultralytics.nn.modules.conv.Concat           [1]                           \n",
            " 18                  -1  2   1846272  ultralytics.nn.modules.block.C2f             [576, 384, 2]                 \n",
            " 19                  -1  1   1327872  ultralytics.nn.modules.conv.Conv             [384, 384, 3, 2]              \n",
            " 20             [-1, 9]  1         0  ultralytics.nn.modules.conv.Concat           [1]                           \n",
            " 21                  -1  2   4207104  ultralytics.nn.modules.block.C2f             [960, 576, 2]                 \n",
            " 22        [15, 18, 21]  1   3802909  ultralytics.nn.modules.head.Detect           [47, [192, 384, 576]]         \n",
            "Model summary: 295 layers, 25883533 parameters, 25883517 gradients, 79.2 GFLOPs\n",
            "\n",
            "Transferred 469/475 items from pretrained weights\n",
            "\u001b[34m\u001b[1mTensorBoard: \u001b[0mStart with 'tensorboard --logdir runs/detect/train5', view at http://localhost:6006/\n",
            "Freezing layer 'model.22.dfl.conv.weight'\n",
            "\u001b[34m\u001b[1mAMP: \u001b[0mrunning Automatic Mixed Precision (AMP) checks with YOLOv8n...\n",
            "\u001b[34m\u001b[1mAMP: \u001b[0mchecks passed ✅\n"
          ]
        },
        {
          "name": "stderr",
          "output_type": "stream",
          "text": [
            "\u001b[34m\u001b[1mtrain: \u001b[0mScanning /notebooks/yolo_final_dataset/labels/train.cache... 10729 images, 0 backgrounds, 6 corrupt: 100%|██████████| 10735/10735 [00:00<?, ?it/s]"
          ]
        },
        {
          "name": "stdout",
          "output_type": "stream",
          "text": [
            "\u001b[34m\u001b[1mtrain: \u001b[0mWARNING ⚠️ /notebooks/yolo_final_dataset/images/train/014240b10dffa805240c72655e357866.jpg: corrupt JPEG restored and saved\n",
            "\u001b[34m\u001b[1mtrain: \u001b[0mWARNING ⚠️ /notebooks/yolo_final_dataset/images/train/0659b84f8272d49753431dc808b8d4e1.jpg: corrupt JPEG restored and saved\n",
            "\u001b[34m\u001b[1mtrain: \u001b[0mWARNING ⚠️ /notebooks/yolo_final_dataset/images/train/08b11baa46e2d9185dd9ee4af5ce89fc.jpg: corrupt JPEG restored and saved\n",
            "\u001b[34m\u001b[1mtrain: \u001b[0mWARNING ⚠️ /notebooks/yolo_final_dataset/images/train/14dd66103e6399d3754f6bcb53fdead2.jpg: corrupt JPEG restored and saved\n",
            "\u001b[34m\u001b[1mtrain: \u001b[0mWARNING ⚠️ /notebooks/yolo_final_dataset/images/train/1e8b43deca87d25180aba67557735c01.jpg: corrupt JPEG restored and saved\n",
            "\u001b[34m\u001b[1mtrain: \u001b[0mWARNING ⚠️ /notebooks/yolo_final_dataset/images/train/2044a7ebe3d8132a8bce492f42bbde1d.jpg: corrupt JPEG restored and saved\n",
            "\u001b[34m\u001b[1mtrain: \u001b[0mWARNING ⚠️ /notebooks/yolo_final_dataset/images/train/2790a93ba1210aaaa09931b951d2376a.jpg: ignoring corrupt image/label: image file is truncated (1 bytes not processed)\n",
            "\u001b[34m\u001b[1mtrain: \u001b[0mWARNING ⚠️ /notebooks/yolo_final_dataset/images/train/2b80e26d24d077d2877caf97756db72d.jpg: corrupt JPEG restored and saved\n",
            "\u001b[34m\u001b[1mtrain: \u001b[0mWARNING ⚠️ /notebooks/yolo_final_dataset/images/train/2d63eab2755538fa1e830f283eaefaa2.jpg: corrupt JPEG restored and saved\n",
            "\u001b[34m\u001b[1mtrain: \u001b[0mWARNING ⚠️ /notebooks/yolo_final_dataset/images/train/33ac074469512ac279d599cdd1157ec1.jpg: corrupt JPEG restored and saved\n",
            "\u001b[34m\u001b[1mtrain: \u001b[0mWARNING ⚠️ /notebooks/yolo_final_dataset/images/train/33e9eebd84173751f4de6d10c7cab0c4.jpg: corrupt JPEG restored and saved\n",
            "\u001b[34m\u001b[1mtrain: \u001b[0mWARNING ⚠️ /notebooks/yolo_final_dataset/images/train/37cef25b6530c45a02acb1d30b56a15b.jpg: corrupt JPEG restored and saved\n",
            "\u001b[34m\u001b[1mtrain: \u001b[0mWARNING ⚠️ /notebooks/yolo_final_dataset/images/train/3cda68798923952e40d8ec720d436207.jpg: corrupt JPEG restored and saved\n",
            "\u001b[34m\u001b[1mtrain: \u001b[0mWARNING ⚠️ /notebooks/yolo_final_dataset/images/train/4075b1896e913e85d31001f6fbe2336e.jpg: ignoring corrupt image/label: image file is truncated (27 bytes not processed)\n",
            "\u001b[34m\u001b[1mtrain: \u001b[0mWARNING ⚠️ /notebooks/yolo_final_dataset/images/train/43718f36b529dc159a51b479e40eba8c.jpg: corrupt JPEG restored and saved\n",
            "\u001b[34m\u001b[1mtrain: \u001b[0mWARNING ⚠️ /notebooks/yolo_final_dataset/images/train/44a429b8b5a6165e21405347ed412649.jpg: corrupt JPEG restored and saved\n",
            "\u001b[34m\u001b[1mtrain: \u001b[0mWARNING ⚠️ /notebooks/yolo_final_dataset/images/train/4e9909c2d98befa16315dd814e990f22.jpg: corrupt JPEG restored and saved\n",
            "\u001b[34m\u001b[1mtrain: \u001b[0mWARNING ⚠️ /notebooks/yolo_final_dataset/images/train/4ef1fa6020f23711cc0e06dc1e7dfdbc.jpg: corrupt JPEG restored and saved\n",
            "\u001b[34m\u001b[1mtrain: \u001b[0mWARNING ⚠️ /notebooks/yolo_final_dataset/images/train/4f6335afb880904ed5ebae7ed55fd81b.jpg: corrupt JPEG restored and saved\n",
            "\u001b[34m\u001b[1mtrain: \u001b[0mWARNING ⚠️ /notebooks/yolo_final_dataset/images/train/59e1d43b57f90388879e9da7599b3f75.jpg: corrupt JPEG restored and saved\n",
            "\u001b[34m\u001b[1mtrain: \u001b[0mWARNING ⚠️ /notebooks/yolo_final_dataset/images/train/5ed8dd35ea5346ac1dc70a726411cd04.jpg: corrupt JPEG restored and saved\n",
            "\u001b[34m\u001b[1mtrain: \u001b[0mWARNING ⚠️ /notebooks/yolo_final_dataset/images/train/68bdc6a16450c3c01fff8bcce9146948.jpg: corrupt JPEG restored and saved\n",
            "\u001b[34m\u001b[1mtrain: \u001b[0mWARNING ⚠️ /notebooks/yolo_final_dataset/images/train/767d90ca1d3649ff1732376341d961ca.jpg: corrupt JPEG restored and saved\n",
            "\u001b[34m\u001b[1mtrain: \u001b[0mWARNING ⚠️ /notebooks/yolo_final_dataset/images/train/7a1054ee4e1158ad3bb2d2d7b1308cc6.jpg: corrupt JPEG restored and saved\n",
            "\u001b[34m\u001b[1mtrain: \u001b[0mWARNING ⚠️ /notebooks/yolo_final_dataset/images/train/7e722a1478e888c2d0b8bffeb7bbb154.jpg: ignoring corrupt image/label: image file is truncated (1 bytes not processed)\n",
            "\u001b[34m\u001b[1mtrain: \u001b[0mWARNING ⚠️ /notebooks/yolo_final_dataset/images/train/7f35d5ac8df852e80c8a35c061ec9473.jpg: ignoring corrupt image/label: image file is truncated (3 bytes not processed)\n",
            "\u001b[34m\u001b[1mtrain: \u001b[0mWARNING ⚠️ /notebooks/yolo_final_dataset/images/train/80ab29de242d75a6a3b08cf3eb08a415.jpg: corrupt JPEG restored and saved\n",
            "\u001b[34m\u001b[1mtrain: \u001b[0mWARNING ⚠️ /notebooks/yolo_final_dataset/images/train/81132e8d96bf76ceac037b03839c82ab.jpg: corrupt JPEG restored and saved\n",
            "\u001b[34m\u001b[1mtrain: \u001b[0mWARNING ⚠️ /notebooks/yolo_final_dataset/images/train/87825161a8c72af4e78e0a18be245e34.jpg: corrupt JPEG restored and saved\n",
            "\u001b[34m\u001b[1mtrain: \u001b[0mWARNING ⚠️ /notebooks/yolo_final_dataset/images/train/88c2d4d1d4f5ab539558cf4129cd9ef2.jpg: corrupt JPEG restored and saved\n",
            "\u001b[34m\u001b[1mtrain: \u001b[0mWARNING ⚠️ /notebooks/yolo_final_dataset/images/train/949bcbb399e20913e4e02230b00b6bdd.jpg: corrupt JPEG restored and saved\n",
            "\u001b[34m\u001b[1mtrain: \u001b[0mWARNING ⚠️ /notebooks/yolo_final_dataset/images/train/98fcfb7b9525b96ab14dc16971c9c039.jpg: corrupt JPEG restored and saved\n",
            "\u001b[34m\u001b[1mtrain: \u001b[0mWARNING ⚠️ /notebooks/yolo_final_dataset/images/train/a912ac8f44762b44a4916ad011437fbb.jpg: corrupt JPEG restored and saved\n",
            "\u001b[34m\u001b[1mtrain: \u001b[0mWARNING ⚠️ /notebooks/yolo_final_dataset/images/train/ac7b8662ed3fb8b116f5db729e0c5a50.jpg: corrupt JPEG restored and saved\n",
            "\u001b[34m\u001b[1mtrain: \u001b[0mWARNING ⚠️ /notebooks/yolo_final_dataset/images/train/ae14f65bd7744dbb8dc0931ee59fb619.jpg: corrupt JPEG restored and saved\n",
            "\u001b[34m\u001b[1mtrain: \u001b[0mWARNING ⚠️ /notebooks/yolo_final_dataset/images/train/b6c3bb6faa6ef9065bcf32683404e621.jpg: corrupt JPEG restored and saved\n",
            "\u001b[34m\u001b[1mtrain: \u001b[0mWARNING ⚠️ /notebooks/yolo_final_dataset/images/train/b70799e73139409aeba1392d03ef4be9.jpg: corrupt JPEG restored and saved\n",
            "\u001b[34m\u001b[1mtrain: \u001b[0mWARNING ⚠️ /notebooks/yolo_final_dataset/images/train/c28440d244bb289b61b19c6070657d6c.jpg: corrupt JPEG restored and saved\n",
            "\u001b[34m\u001b[1mtrain: \u001b[0mWARNING ⚠️ /notebooks/yolo_final_dataset/images/train/cdfa23ff0a31e26db5af2ea32a07317e.jpg: corrupt JPEG restored and saved\n",
            "\u001b[34m\u001b[1mtrain: \u001b[0mWARNING ⚠️ /notebooks/yolo_final_dataset/images/train/d37af747d93eb94c18d0c7150b845af2.jpg: corrupt JPEG restored and saved\n",
            "\u001b[34m\u001b[1mtrain: \u001b[0mWARNING ⚠️ /notebooks/yolo_final_dataset/images/train/d9005561d68c4a89f95a3257374a0b2f.jpg: corrupt JPEG restored and saved\n",
            "\u001b[34m\u001b[1mtrain: \u001b[0mWARNING ⚠️ /notebooks/yolo_final_dataset/images/train/e704da53011ed94a1644bec7ffc904e9.jpg: ignoring corrupt image/label: image file is truncated (4 bytes not processed)\n",
            "\u001b[34m\u001b[1mtrain: \u001b[0mWARNING ⚠️ /notebooks/yolo_final_dataset/images/train/f2ea4aad6f8980b2f9254cda9eb13e9b.jpg: ignoring corrupt image/label: image file is truncated (12 bytes not processed)\n",
            "\u001b[34m\u001b[1mtrain: \u001b[0mWARNING ⚠️ /notebooks/yolo_final_dataset/images/train/f6158735ad61f83ac6ad45e4032d3068.jpg: corrupt JPEG restored and saved\n",
            "\u001b[34m\u001b[1mtrain: \u001b[0mWARNING ⚠️ /notebooks/yolo_final_dataset/images/train/fe26e23dabe4618337df064573717487.jpg: corrupt JPEG restored and saved\n"
          ]
        },
        {
          "name": "stderr",
          "output_type": "stream",
          "text": [
            "\n",
            "\u001b[34m\u001b[1mval: \u001b[0mScanning /notebooks/yolo_final_dataset/labels/val.cache... 1320 images, 0 backgrounds, 0 corrupt: 100%|██████████| 1320/1320 [00:00<?, ?it/s]"
          ]
        },
        {
          "name": "stdout",
          "output_type": "stream",
          "text": [
            "\u001b[34m\u001b[1mval: \u001b[0mWARNING ⚠️ /notebooks/yolo_final_dataset/images/val/393ff29b0978ed06efe8911631e1791e.jpg: corrupt JPEG restored and saved\n",
            "\u001b[34m\u001b[1mval: \u001b[0mWARNING ⚠️ /notebooks/yolo_final_dataset/images/val/53407a519525715fe10f141958cd543a.jpg: corrupt JPEG restored and saved\n",
            "\u001b[34m\u001b[1mval: \u001b[0mWARNING ⚠️ /notebooks/yolo_final_dataset/images/val/92711e787a2bf1173dc4afb5f40418e4.jpg: corrupt JPEG restored and saved\n",
            "\u001b[34m\u001b[1mval: \u001b[0mWARNING ⚠️ /notebooks/yolo_final_dataset/images/val/c95b4fd51b689de2f0d7b161b11b7c9e.jpg: corrupt JPEG restored and saved\n"
          ]
        },
        {
          "name": "stderr",
          "output_type": "stream",
          "text": [
            "\n"
          ]
        },
        {
          "name": "stdout",
          "output_type": "stream",
          "text": [
            "Plotting labels to runs/detect/train5/labels.jpg... \n",
            "\u001b[34m\u001b[1moptimizer:\u001b[0m 'optimizer=auto' found, ignoring 'lr0=0.01' and 'momentum=0.937' and determining best 'optimizer', 'lr0' and 'momentum' automatically... \n",
            "\u001b[34m\u001b[1moptimizer:\u001b[0m AdamW(lr=0.000196, momentum=0.9) with parameter groups 77 weight(decay=0.0), 84 weight(decay=0.0005), 83 bias(decay=0.0)\n",
            "\u001b[34m\u001b[1mTensorBoard: \u001b[0mmodel graph visualization added ✅\n",
            "Image sizes 640 train, 640 val\n",
            "Using 8 dataloader workers\n",
            "Logging results to \u001b[1mruns/detect/train5\u001b[0m\n",
            "Starting training for 50 epochs...\n",
            "\n",
            "      Epoch    GPU_mem   box_loss   cls_loss   dfl_loss  Instances       Size\n"
          ]
        },
        {
          "name": "stderr",
          "output_type": "stream",
          "text": [
            "       1/50      6.93G     0.6556      3.813      1.056         20        640: 100%|██████████| 671/671 [03:07<00:00,  3.58it/s]\n",
            "                 Class     Images  Instances      Box(P          R      mAP50  mAP50-95): 100%|██████████| 42/42 [00:16<00:00,  2.58it/s]"
          ]
        },
        {
          "name": "stdout",
          "output_type": "stream",
          "text": [
            "                   all       1320       2239      0.204      0.197      0.097     0.0812\n"
          ]
        },
        {
          "name": "stderr",
          "output_type": "stream",
          "text": [
            "\n"
          ]
        },
        {
          "name": "stdout",
          "output_type": "stream",
          "text": [
            "\n",
            "      Epoch    GPU_mem   box_loss   cls_loss   dfl_loss  Instances       Size\n"
          ]
        },
        {
          "name": "stderr",
          "output_type": "stream",
          "text": [
            "       2/50      6.92G     0.6519      2.643      1.029         13        640: 100%|██████████| 671/671 [03:04<00:00,  3.64it/s]\n",
            "                 Class     Images  Instances      Box(P          R      mAP50  mAP50-95): 100%|██████████| 42/42 [00:13<00:00,  3.12it/s]\n"
          ]
        },
        {
          "name": "stdout",
          "output_type": "stream",
          "text": [
            "                   all       1320       2239       0.26      0.278       0.18      0.151\n",
            "\n",
            "      Epoch    GPU_mem   box_loss   cls_loss   dfl_loss  Instances       Size\n"
          ]
        },
        {
          "name": "stderr",
          "output_type": "stream",
          "text": [
            "       3/50      6.82G      0.669       2.34      1.036          9        640: 100%|██████████| 671/671 [03:01<00:00,  3.71it/s]\n",
            "                 Class     Images  Instances      Box(P          R      mAP50  mAP50-95): 100%|██████████| 42/42 [00:11<00:00,  3.60it/s]\n"
          ]
        },
        {
          "name": "stdout",
          "output_type": "stream",
          "text": [
            "                   all       1320       2239      0.305      0.297      0.225      0.185\n",
            "\n",
            "      Epoch    GPU_mem   box_loss   cls_loss   dfl_loss  Instances       Size\n"
          ]
        },
        {
          "name": "stderr",
          "output_type": "stream",
          "text": [
            "       4/50      6.91G      0.645      2.117       1.02         10        640: 100%|██████████| 671/671 [03:01<00:00,  3.69it/s]\n",
            "                 Class     Images  Instances      Box(P          R      mAP50  mAP50-95): 100%|██████████| 42/42 [00:11<00:00,  3.58it/s]\n"
          ]
        },
        {
          "name": "stdout",
          "output_type": "stream",
          "text": [
            "                   all       1320       2239      0.374      0.329      0.286      0.239\n",
            "\n",
            "      Epoch    GPU_mem   box_loss   cls_loss   dfl_loss  Instances       Size\n"
          ]
        },
        {
          "name": "stderr",
          "output_type": "stream",
          "text": [
            "       5/50       6.9G     0.5988       1.88     0.9922         11        640: 100%|██████████| 671/671 [03:00<00:00,  3.73it/s]\n",
            "                 Class     Images  Instances      Box(P          R      mAP50  mAP50-95): 100%|██████████| 42/42 [00:11<00:00,  3.56it/s]\n"
          ]
        },
        {
          "name": "stdout",
          "output_type": "stream",
          "text": [
            "                   all       1320       2239       0.41      0.366      0.351      0.294\n",
            "\n",
            "      Epoch    GPU_mem   box_loss   cls_loss   dfl_loss  Instances       Size\n"
          ]
        },
        {
          "name": "stderr",
          "output_type": "stream",
          "text": [
            "       6/50       6.9G     0.5552      1.673     0.9674         24        640: 100%|██████████| 671/671 [03:00<00:00,  3.72it/s]\n",
            "                 Class     Images  Instances      Box(P          R      mAP50  mAP50-95): 100%|██████████| 42/42 [00:11<00:00,  3.69it/s]\n"
          ]
        },
        {
          "name": "stdout",
          "output_type": "stream",
          "text": [
            "                   all       1320       2239      0.412      0.399      0.391      0.336\n",
            "\n",
            "      Epoch    GPU_mem   box_loss   cls_loss   dfl_loss  Instances       Size\n"
          ]
        },
        {
          "name": "stderr",
          "output_type": "stream",
          "text": [
            "       7/50      6.82G     0.5202      1.472     0.9452         15        640: 100%|██████████| 671/671 [02:59<00:00,  3.73it/s]\n",
            "                 Class     Images  Instances      Box(P          R      mAP50  mAP50-95): 100%|██████████| 42/42 [00:11<00:00,  3.56it/s]\n"
          ]
        },
        {
          "name": "stdout",
          "output_type": "stream",
          "text": [
            "                   all       1320       2239       0.45      0.424      0.439      0.376\n",
            "\n",
            "      Epoch    GPU_mem   box_loss   cls_loss   dfl_loss  Instances       Size\n"
          ]
        },
        {
          "name": "stderr",
          "output_type": "stream",
          "text": [
            "       8/50       6.9G     0.4906      1.291     0.9265         14        640: 100%|██████████| 671/671 [03:00<00:00,  3.71it/s]\n",
            "                 Class     Images  Instances      Box(P          R      mAP50  mAP50-95): 100%|██████████| 42/42 [00:12<00:00,  3.50it/s]\n"
          ]
        },
        {
          "name": "stdout",
          "output_type": "stream",
          "text": [
            "                   all       1320       2239      0.503      0.477      0.492      0.426\n",
            "\n",
            "      Epoch    GPU_mem   box_loss   cls_loss   dfl_loss  Instances       Size\n"
          ]
        },
        {
          "name": "stderr",
          "output_type": "stream",
          "text": [
            "       9/50       6.9G     0.4589      1.138     0.9108         13        640: 100%|██████████| 671/671 [03:00<00:00,  3.72it/s]\n",
            "                 Class     Images  Instances      Box(P          R      mAP50  mAP50-95): 100%|██████████| 42/42 [00:11<00:00,  3.80it/s]\n"
          ]
        },
        {
          "name": "stdout",
          "output_type": "stream",
          "text": [
            "                   all       1320       2239      0.531      0.458      0.484      0.418\n",
            "\n",
            "      Epoch    GPU_mem   box_loss   cls_loss   dfl_loss  Instances       Size\n"
          ]
        },
        {
          "name": "stderr",
          "output_type": "stream",
          "text": [
            "      10/50      6.93G     0.4346      1.012     0.8972         22        640: 100%|██████████| 671/671 [03:00<00:00,  3.72it/s]\n",
            "                 Class     Images  Instances      Box(P          R      mAP50  mAP50-95): 100%|██████████| 42/42 [00:11<00:00,  3.55it/s]\n"
          ]
        },
        {
          "name": "stdout",
          "output_type": "stream",
          "text": [
            "                   all       1320       2239      0.603      0.454      0.518      0.445\n",
            "\n",
            "      Epoch    GPU_mem   box_loss   cls_loss   dfl_loss  Instances       Size\n"
          ]
        },
        {
          "name": "stderr",
          "output_type": "stream",
          "text": [
            "      11/50      6.82G     0.4154     0.9082     0.8883         19        640: 100%|██████████| 671/671 [03:00<00:00,  3.73it/s]\n",
            "                 Class     Images  Instances      Box(P          R      mAP50  mAP50-95): 100%|██████████| 42/42 [00:11<00:00,  3.77it/s]"
          ]
        },
        {
          "name": "stdout",
          "output_type": "stream",
          "text": [
            "                   all       1320       2239      0.592      0.472      0.523      0.455\n"
          ]
        },
        {
          "name": "stderr",
          "output_type": "stream",
          "text": [
            "\n"
          ]
        },
        {
          "name": "stdout",
          "output_type": "stream",
          "text": [
            "\n",
            "      Epoch    GPU_mem   box_loss   cls_loss   dfl_loss  Instances       Size\n"
          ]
        },
        {
          "name": "stderr",
          "output_type": "stream",
          "text": [
            "      12/50      6.91G     0.4003     0.8049     0.8782          9        640: 100%|██████████| 671/671 [03:00<00:00,  3.72it/s]\n",
            "                 Class     Images  Instances      Box(P          R      mAP50  mAP50-95): 100%|██████████| 42/42 [00:11<00:00,  3.66it/s]\n"
          ]
        },
        {
          "name": "stdout",
          "output_type": "stream",
          "text": [
            "                   all       1320       2239      0.621      0.492      0.561       0.49\n",
            "\n",
            "      Epoch    GPU_mem   box_loss   cls_loss   dfl_loss  Instances       Size\n"
          ]
        },
        {
          "name": "stderr",
          "output_type": "stream",
          "text": [
            "      13/50      6.89G     0.3837     0.7087     0.8705          9        640: 100%|██████████| 671/671 [02:59<00:00,  3.74it/s]\n",
            "                 Class     Images  Instances      Box(P          R      mAP50  mAP50-95): 100%|██████████| 42/42 [00:11<00:00,  3.73it/s]"
          ]
        },
        {
          "name": "stdout",
          "output_type": "stream",
          "text": [
            "                   all       1320       2239      0.623      0.497      0.566      0.495\n"
          ]
        },
        {
          "name": "stderr",
          "output_type": "stream",
          "text": [
            "\n"
          ]
        },
        {
          "name": "stdout",
          "output_type": "stream",
          "text": [
            "\n",
            "      Epoch    GPU_mem   box_loss   cls_loss   dfl_loss  Instances       Size\n"
          ]
        },
        {
          "name": "stderr",
          "output_type": "stream",
          "text": [
            "      14/50      6.92G     0.3674      0.639     0.8615         16        640: 100%|██████████| 671/671 [02:59<00:00,  3.74it/s]\n",
            "                 Class     Images  Instances      Box(P          R      mAP50  mAP50-95): 100%|██████████| 42/42 [00:11<00:00,  3.80it/s]\n"
          ]
        },
        {
          "name": "stdout",
          "output_type": "stream",
          "text": [
            "                   all       1320       2239      0.659      0.511       0.59      0.517\n",
            "\n",
            "      Epoch    GPU_mem   box_loss   cls_loss   dfl_loss  Instances       Size\n"
          ]
        },
        {
          "name": "stderr",
          "output_type": "stream",
          "text": [
            "      15/50      6.82G     0.3523      0.569     0.8536         11        640: 100%|██████████| 671/671 [02:59<00:00,  3.74it/s]\n",
            "                 Class     Images  Instances      Box(P          R      mAP50  mAP50-95): 100%|██████████| 42/42 [00:11<00:00,  3.81it/s]"
          ]
        },
        {
          "name": "stdout",
          "output_type": "stream",
          "text": [
            "                   all       1320       2239      0.635      0.537      0.599      0.525\n"
          ]
        },
        {
          "name": "stderr",
          "output_type": "stream",
          "text": [
            "\n"
          ]
        },
        {
          "name": "stdout",
          "output_type": "stream",
          "text": [
            "\n",
            "      Epoch    GPU_mem   box_loss   cls_loss   dfl_loss  Instances       Size\n"
          ]
        },
        {
          "name": "stderr",
          "output_type": "stream",
          "text": [
            "      16/50       6.9G     0.3386     0.5245     0.8479         13        640: 100%|██████████| 671/671 [02:59<00:00,  3.74it/s]\n",
            "                 Class     Images  Instances      Box(P          R      mAP50  mAP50-95): 100%|██████████| 42/42 [00:11<00:00,  3.59it/s]"
          ]
        },
        {
          "name": "stdout",
          "output_type": "stream",
          "text": [
            "                   all       1320       2239      0.628      0.542      0.598      0.532\n"
          ]
        },
        {
          "name": "stderr",
          "output_type": "stream",
          "text": [
            "\n"
          ]
        },
        {
          "name": "stdout",
          "output_type": "stream",
          "text": [
            "\n",
            "      Epoch    GPU_mem   box_loss   cls_loss   dfl_loss  Instances       Size\n"
          ]
        },
        {
          "name": "stderr",
          "output_type": "stream",
          "text": [
            "      17/50      6.91G     0.3313     0.4763     0.8441         10        640: 100%|██████████| 671/671 [02:59<00:00,  3.74it/s]\n",
            "                 Class     Images  Instances      Box(P          R      mAP50  mAP50-95): 100%|██████████| 42/42 [00:11<00:00,  3.54it/s]"
          ]
        },
        {
          "name": "stdout",
          "output_type": "stream",
          "text": [
            "                   all       1320       2239      0.712      0.525      0.613      0.541\n"
          ]
        },
        {
          "name": "stderr",
          "output_type": "stream",
          "text": [
            "\n"
          ]
        },
        {
          "name": "stdout",
          "output_type": "stream",
          "text": [
            "\n",
            "      Epoch    GPU_mem   box_loss   cls_loss   dfl_loss  Instances       Size\n"
          ]
        },
        {
          "name": "stderr",
          "output_type": "stream",
          "text": [
            "      18/50      6.92G     0.3177     0.4347     0.8367         13        640: 100%|██████████| 671/671 [02:59<00:00,  3.74it/s]\n",
            "                 Class     Images  Instances      Box(P          R      mAP50  mAP50-95): 100%|██████████| 42/42 [00:11<00:00,  3.80it/s]"
          ]
        },
        {
          "name": "stdout",
          "output_type": "stream",
          "text": [
            "                   all       1320       2239      0.671      0.542      0.615      0.547\n"
          ]
        },
        {
          "name": "stderr",
          "output_type": "stream",
          "text": [
            "\n"
          ]
        },
        {
          "name": "stdout",
          "output_type": "stream",
          "text": [
            "\n",
            "      Epoch    GPU_mem   box_loss   cls_loss   dfl_loss  Instances       Size\n"
          ]
        },
        {
          "name": "stderr",
          "output_type": "stream",
          "text": [
            "      19/50      6.81G     0.3071      0.405     0.8302         18        640: 100%|██████████| 671/671 [02:58<00:00,  3.76it/s]\n",
            "                 Class     Images  Instances      Box(P          R      mAP50  mAP50-95): 100%|██████████| 42/42 [00:11<00:00,  3.78it/s]"
          ]
        },
        {
          "name": "stdout",
          "output_type": "stream",
          "text": [
            "                   all       1320       2239      0.662      0.535      0.602      0.532\n"
          ]
        },
        {
          "name": "stderr",
          "output_type": "stream",
          "text": [
            "\n"
          ]
        },
        {
          "name": "stdout",
          "output_type": "stream",
          "text": [
            "\n",
            "      Epoch    GPU_mem   box_loss   cls_loss   dfl_loss  Instances       Size\n"
          ]
        },
        {
          "name": "stderr",
          "output_type": "stream",
          "text": [
            "      20/50       6.9G     0.2947     0.3591     0.8212         23        640:  13%|█▎        | 86/671 [00:22<02:36,  3.73it/s]"
          ]
        }
      ],
      "source": [
        "results = yolo8_m_model.train(\n",
        "    data='/notebooks/training_data.yaml',\n",
        "    epochs=50,\n",
        "    hsv_h=0,\n",
        "    hsv_s=0,\n",
        "    hsv_v=0,\n",
        "    degrees=0,\n",
        "    translate=0,\n",
        "    scale=0,\n",
        "    shear=0.0,\n",
        "    perspective=0.0,\n",
        "    flipud=0.0,\n",
        "    fliplr=0.5,\n",
        "    bgr=0.0,\n",
        "    mosaic=0,\n",
        "    mixup=0.0,\n",
        "    copy_paste=0.0,\n",
        "    auto_augment=None,\n",
        "    erasing=0,\n",
        "    crop_fraction=1.0,\n",
        "    save=True\n",
        ")"
      ]
    },
    {
      "cell_type": "markdown",
      "metadata": {
        "id": "uA4SM9jC_pt2"
      },
      "source": [
        "### Augmentation: Resize\n",
        "    scale: 0.5"
      ]
    },
    {
      "cell_type": "code",
      "execution_count": null,
      "metadata": {
        "id": "5I971JZz_sMw"
      },
      "outputs": [],
      "source": [
        "results = yolo8_m_model.train(\n",
        "    data='/notebooks/training_data.yaml',\n",
        "    epochs=50,\n",
        "    hsv_h=0,\n",
        "    hsv_s=0,\n",
        "    hsv_v=0,\n",
        "    degrees=0,\n",
        "    translate=0,\n",
        "    scale=0.5,\n",
        "    shear=0.0,\n",
        "    perspective=0.0,\n",
        "    flipud=0.0,\n",
        "    fliplr=0,\n",
        "    bgr=0.0,\n",
        "    mosaic=0,\n",
        "    mixup=0.0,\n",
        "    copy_paste=0.0,\n",
        "    auto_augment=None,\n",
        "    erasing=0,\n",
        "    crop_fraction=1.0,\n",
        "    save=True\n",
        ")"
      ]
    },
    {
      "cell_type": "markdown",
      "metadata": {
        "id": "z5Q9Dwru_t8g"
      },
      "source": [
        "### Combined/Default Augmentation:\n",
        "\n",
        "    hsv_h: 0.015\n",
        "    hsv_s: 0.7\n",
        "    hsv_v: 0.4\n",
        "    degrees: 0.0\n",
        "    translate: 0.1\n",
        "    scale: 0.5\n",
        "    shear: 0.0\n",
        "    perspective: 0.0\n",
        "    flipud: 0.0\n",
        "    fliplr: 0.5\n",
        "    bgr: 0.0\n",
        "    mosaic: 1.0\n",
        "    mixup: 0.0\n",
        "    copy_paste: 0.0\n",
        "    auto_augment: randaugment\n",
        "    erasing: 0.4\n",
        "    crop_fraction: 1.0"
      ]
    },
    {
      "cell_type": "code",
      "execution_count": null,
      "metadata": {
        "id": "GPNm0agMA378",
        "tags": [],
        "outputId": "9e72291b-5684-41cb-f9ed-061615883fa1"
      },
      "outputs": [
        {
          "name": "stdout",
          "output_type": "stream",
          "text": [
            "Ultralytics YOLOv8.2.8 🚀 Python-3.11.7 torch-2.1.1+cu121 CUDA:0 (NVIDIA RTX A4000, 16109MiB)\n",
            "\u001b[34m\u001b[1mengine/trainer: \u001b[0mtask=detect, mode=train, model=yolov8m.pt, data=/notebooks/training_data.yaml, epochs=50, time=None, patience=100, batch=16, imgsz=640, save=True, save_period=-1, cache=False, device=None, workers=8, project=None, name=train, exist_ok=False, pretrained=True, optimizer=auto, verbose=True, seed=0, deterministic=True, single_cls=False, rect=False, cos_lr=False, close_mosaic=10, resume=False, amp=True, fraction=1.0, profile=False, freeze=None, multi_scale=False, overlap_mask=True, mask_ratio=4, dropout=0.0, val=True, split=val, save_json=False, save_hybrid=False, conf=None, iou=0.7, max_det=300, half=False, dnn=False, plots=True, source=None, vid_stride=1, stream_buffer=False, visualize=False, augment=False, agnostic_nms=False, classes=None, retina_masks=False, embed=None, show=False, save_frames=False, save_txt=False, save_conf=False, save_crop=False, show_labels=True, show_conf=True, show_boxes=True, line_width=None, format=torchscript, keras=False, optimize=False, int8=False, dynamic=False, simplify=False, opset=None, workspace=4, nms=False, lr0=0.01, lrf=0.01, momentum=0.937, weight_decay=0.0005, warmup_epochs=3.0, warmup_momentum=0.8, warmup_bias_lr=0.1, box=7.5, cls=0.5, dfl=1.5, pose=12.0, kobj=1.0, label_smoothing=0.0, nbs=64, hsv_h=0.015, hsv_s=0.7, hsv_v=0.4, degrees=0.0, translate=0.1, scale=0.5, shear=0.0, perspective=0.0, flipud=0.0, fliplr=0.5, bgr=0.0, mosaic=1.0, mixup=0.0, copy_paste=0.0, auto_augment=randaugment, erasing=0.4, crop_fraction=1.0, cfg=None, tracker=botsort.yaml, save_dir=runs/detect/train\n",
            "Downloading https://ultralytics.com/assets/Arial.ttf to '/root/.config/Ultralytics/Arial.ttf'...\n"
          ]
        },
        {
          "name": "stderr",
          "output_type": "stream",
          "text": [
            "100%|██████████| 755k/755k [00:00<00:00, 138MB/s]\n",
            "2024-05-04 22:03:17.301615: E external/local_xla/xla/stream_executor/cuda/cuda_dnn.cc:9261] Unable to register cuDNN factory: Attempting to register factory for plugin cuDNN when one has already been registered\n",
            "2024-05-04 22:03:17.301745: E external/local_xla/xla/stream_executor/cuda/cuda_fft.cc:607] Unable to register cuFFT factory: Attempting to register factory for plugin cuFFT when one has already been registered\n",
            "2024-05-04 22:03:17.417961: E external/local_xla/xla/stream_executor/cuda/cuda_blas.cc:1515] Unable to register cuBLAS factory: Attempting to register factory for plugin cuBLAS when one has already been registered\n"
          ]
        },
        {
          "name": "stdout",
          "output_type": "stream",
          "text": [
            "Overriding model.yaml nc=80 with nc=47\n",
            "\n",
            "                   from  n    params  module                                       arguments                     \n",
            "  0                  -1  1      1392  ultralytics.nn.modules.conv.Conv             [3, 48, 3, 2]                 \n",
            "  1                  -1  1     41664  ultralytics.nn.modules.conv.Conv             [48, 96, 3, 2]                \n",
            "  2                  -1  2    111360  ultralytics.nn.modules.block.C2f             [96, 96, 2, True]             \n",
            "  3                  -1  1    166272  ultralytics.nn.modules.conv.Conv             [96, 192, 3, 2]               \n",
            "  4                  -1  4    813312  ultralytics.nn.modules.block.C2f             [192, 192, 4, True]           \n",
            "  5                  -1  1    664320  ultralytics.nn.modules.conv.Conv             [192, 384, 3, 2]              \n",
            "  6                  -1  4   3248640  ultralytics.nn.modules.block.C2f             [384, 384, 4, True]           \n",
            "  7                  -1  1   1991808  ultralytics.nn.modules.conv.Conv             [384, 576, 3, 2]              \n",
            "  8                  -1  2   3985920  ultralytics.nn.modules.block.C2f             [576, 576, 2, True]           \n",
            "  9                  -1  1    831168  ultralytics.nn.modules.block.SPPF            [576, 576, 5]                 \n",
            " 10                  -1  1         0  torch.nn.modules.upsampling.Upsample         [None, 2, 'nearest']          \n",
            " 11             [-1, 6]  1         0  ultralytics.nn.modules.conv.Concat           [1]                           \n",
            " 12                  -1  2   1993728  ultralytics.nn.modules.block.C2f             [960, 384, 2]                 \n",
            " 13                  -1  1         0  torch.nn.modules.upsampling.Upsample         [None, 2, 'nearest']          \n",
            " 14             [-1, 4]  1         0  ultralytics.nn.modules.conv.Concat           [1]                           \n",
            " 15                  -1  2    517632  ultralytics.nn.modules.block.C2f             [576, 192, 2]                 \n",
            " 16                  -1  1    332160  ultralytics.nn.modules.conv.Conv             [192, 192, 3, 2]              \n",
            " 17            [-1, 12]  1         0  ultralytics.nn.modules.conv.Concat           [1]                           \n",
            " 18                  -1  2   1846272  ultralytics.nn.modules.block.C2f             [576, 384, 2]                 \n",
            " 19                  -1  1   1327872  ultralytics.nn.modules.conv.Conv             [384, 384, 3, 2]              \n",
            " 20             [-1, 9]  1         0  ultralytics.nn.modules.conv.Concat           [1]                           \n",
            " 21                  -1  2   4207104  ultralytics.nn.modules.block.C2f             [960, 576, 2]                 \n",
            " 22        [15, 18, 21]  1   3802909  ultralytics.nn.modules.head.Detect           [47, [192, 384, 576]]         \n",
            "Model summary: 295 layers, 25883533 parameters, 25883517 gradients, 79.2 GFLOPs\n",
            "\n",
            "Transferred 84/475 items from pretrained weights\n",
            "\u001b[34m\u001b[1mTensorBoard: \u001b[0mStart with 'tensorboard --logdir runs/detect/train', view at http://localhost:6006/\n",
            "Freezing layer 'model.22.dfl.conv.weight'\n",
            "\u001b[34m\u001b[1mAMP: \u001b[0mrunning Automatic Mixed Precision (AMP) checks with YOLOv8n...\n",
            "Downloading https://github.com/ultralytics/assets/releases/download/v8.2.0/yolov8n.pt to 'yolov8n.pt'...\n"
          ]
        },
        {
          "name": "stderr",
          "output_type": "stream",
          "text": [
            "100%|██████████| 6.23M/6.23M [00:00<00:00, 250MB/s]\n"
          ]
        },
        {
          "name": "stdout",
          "output_type": "stream",
          "text": [
            "\u001b[34m\u001b[1mAMP: \u001b[0mchecks passed ✅\n"
          ]
        },
        {
          "name": "stderr",
          "output_type": "stream",
          "text": [
            "\u001b[34m\u001b[1mtrain: \u001b[0mScanning /notebooks/yolo_final_dataset/labels/train... 10729 images, 0 backgrounds, 6 corrupt: 100%|██████████| 10735/10735 [00:08<00:00, 1316.09it/s]"
          ]
        },
        {
          "name": "stdout",
          "output_type": "stream",
          "text": [
            "\u001b[34m\u001b[1mtrain: \u001b[0mWARNING ⚠️ /notebooks/yolo_final_dataset/images/train/014240b10dffa805240c72655e357866.jpg: corrupt JPEG restored and saved\n",
            "\u001b[34m\u001b[1mtrain: \u001b[0mWARNING ⚠️ /notebooks/yolo_final_dataset/images/train/0659b84f8272d49753431dc808b8d4e1.jpg: corrupt JPEG restored and saved\n",
            "\u001b[34m\u001b[1mtrain: \u001b[0mWARNING ⚠️ /notebooks/yolo_final_dataset/images/train/08b11baa46e2d9185dd9ee4af5ce89fc.jpg: corrupt JPEG restored and saved\n",
            "\u001b[34m\u001b[1mtrain: \u001b[0mWARNING ⚠️ /notebooks/yolo_final_dataset/images/train/14dd66103e6399d3754f6bcb53fdead2.jpg: corrupt JPEG restored and saved\n",
            "\u001b[34m\u001b[1mtrain: \u001b[0mWARNING ⚠️ /notebooks/yolo_final_dataset/images/train/1e8b43deca87d25180aba67557735c01.jpg: corrupt JPEG restored and saved\n",
            "\u001b[34m\u001b[1mtrain: \u001b[0mWARNING ⚠️ /notebooks/yolo_final_dataset/images/train/2044a7ebe3d8132a8bce492f42bbde1d.jpg: corrupt JPEG restored and saved\n",
            "\u001b[34m\u001b[1mtrain: \u001b[0mWARNING ⚠️ /notebooks/yolo_final_dataset/images/train/2790a93ba1210aaaa09931b951d2376a.jpg: ignoring corrupt image/label: image file is truncated (1 bytes not processed)\n",
            "\u001b[34m\u001b[1mtrain: \u001b[0mWARNING ⚠️ /notebooks/yolo_final_dataset/images/train/2b80e26d24d077d2877caf97756db72d.jpg: corrupt JPEG restored and saved\n",
            "\u001b[34m\u001b[1mtrain: \u001b[0mWARNING ⚠️ /notebooks/yolo_final_dataset/images/train/2d63eab2755538fa1e830f283eaefaa2.jpg: corrupt JPEG restored and saved\n",
            "\u001b[34m\u001b[1mtrain: \u001b[0mWARNING ⚠️ /notebooks/yolo_final_dataset/images/train/33ac074469512ac279d599cdd1157ec1.jpg: corrupt JPEG restored and saved\n",
            "\u001b[34m\u001b[1mtrain: \u001b[0mWARNING ⚠️ /notebooks/yolo_final_dataset/images/train/33e9eebd84173751f4de6d10c7cab0c4.jpg: corrupt JPEG restored and saved\n",
            "\u001b[34m\u001b[1mtrain: \u001b[0mWARNING ⚠️ /notebooks/yolo_final_dataset/images/train/37cef25b6530c45a02acb1d30b56a15b.jpg: corrupt JPEG restored and saved\n",
            "\u001b[34m\u001b[1mtrain: \u001b[0mWARNING ⚠️ /notebooks/yolo_final_dataset/images/train/3cda68798923952e40d8ec720d436207.jpg: corrupt JPEG restored and saved\n",
            "\u001b[34m\u001b[1mtrain: \u001b[0mWARNING ⚠️ /notebooks/yolo_final_dataset/images/train/4075b1896e913e85d31001f6fbe2336e.jpg: ignoring corrupt image/label: image file is truncated (27 bytes not processed)\n",
            "\u001b[34m\u001b[1mtrain: \u001b[0mWARNING ⚠️ /notebooks/yolo_final_dataset/images/train/43718f36b529dc159a51b479e40eba8c.jpg: corrupt JPEG restored and saved\n",
            "\u001b[34m\u001b[1mtrain: \u001b[0mWARNING ⚠️ /notebooks/yolo_final_dataset/images/train/44a429b8b5a6165e21405347ed412649.jpg: corrupt JPEG restored and saved\n",
            "\u001b[34m\u001b[1mtrain: \u001b[0mWARNING ⚠️ /notebooks/yolo_final_dataset/images/train/4e9909c2d98befa16315dd814e990f22.jpg: corrupt JPEG restored and saved\n",
            "\u001b[34m\u001b[1mtrain: \u001b[0mWARNING ⚠️ /notebooks/yolo_final_dataset/images/train/4ef1fa6020f23711cc0e06dc1e7dfdbc.jpg: corrupt JPEG restored and saved\n",
            "\u001b[34m\u001b[1mtrain: \u001b[0mWARNING ⚠️ /notebooks/yolo_final_dataset/images/train/4f6335afb880904ed5ebae7ed55fd81b.jpg: corrupt JPEG restored and saved\n",
            "\u001b[34m\u001b[1mtrain: \u001b[0mWARNING ⚠️ /notebooks/yolo_final_dataset/images/train/59e1d43b57f90388879e9da7599b3f75.jpg: corrupt JPEG restored and saved\n",
            "\u001b[34m\u001b[1mtrain: \u001b[0mWARNING ⚠️ /notebooks/yolo_final_dataset/images/train/5ed8dd35ea5346ac1dc70a726411cd04.jpg: corrupt JPEG restored and saved\n",
            "\u001b[34m\u001b[1mtrain: \u001b[0mWARNING ⚠️ /notebooks/yolo_final_dataset/images/train/68bdc6a16450c3c01fff8bcce9146948.jpg: corrupt JPEG restored and saved\n",
            "\u001b[34m\u001b[1mtrain: \u001b[0mWARNING ⚠️ /notebooks/yolo_final_dataset/images/train/767d90ca1d3649ff1732376341d961ca.jpg: corrupt JPEG restored and saved\n",
            "\u001b[34m\u001b[1mtrain: \u001b[0mWARNING ⚠️ /notebooks/yolo_final_dataset/images/train/7a1054ee4e1158ad3bb2d2d7b1308cc6.jpg: corrupt JPEG restored and saved\n",
            "\u001b[34m\u001b[1mtrain: \u001b[0mWARNING ⚠️ /notebooks/yolo_final_dataset/images/train/7e722a1478e888c2d0b8bffeb7bbb154.jpg: ignoring corrupt image/label: image file is truncated (1 bytes not processed)\n",
            "\u001b[34m\u001b[1mtrain: \u001b[0mWARNING ⚠️ /notebooks/yolo_final_dataset/images/train/7f35d5ac8df852e80c8a35c061ec9473.jpg: ignoring corrupt image/label: image file is truncated (3 bytes not processed)\n",
            "\u001b[34m\u001b[1mtrain: \u001b[0mWARNING ⚠️ /notebooks/yolo_final_dataset/images/train/80ab29de242d75a6a3b08cf3eb08a415.jpg: corrupt JPEG restored and saved\n",
            "\u001b[34m\u001b[1mtrain: \u001b[0mWARNING ⚠️ /notebooks/yolo_final_dataset/images/train/81132e8d96bf76ceac037b03839c82ab.jpg: corrupt JPEG restored and saved\n",
            "\u001b[34m\u001b[1mtrain: \u001b[0mWARNING ⚠️ /notebooks/yolo_final_dataset/images/train/87825161a8c72af4e78e0a18be245e34.jpg: corrupt JPEG restored and saved\n",
            "\u001b[34m\u001b[1mtrain: \u001b[0mWARNING ⚠️ /notebooks/yolo_final_dataset/images/train/88c2d4d1d4f5ab539558cf4129cd9ef2.jpg: corrupt JPEG restored and saved\n",
            "\u001b[34m\u001b[1mtrain: \u001b[0mWARNING ⚠️ /notebooks/yolo_final_dataset/images/train/949bcbb399e20913e4e02230b00b6bdd.jpg: corrupt JPEG restored and saved\n",
            "\u001b[34m\u001b[1mtrain: \u001b[0mWARNING ⚠️ /notebooks/yolo_final_dataset/images/train/98fcfb7b9525b96ab14dc16971c9c039.jpg: corrupt JPEG restored and saved\n",
            "\u001b[34m\u001b[1mtrain: \u001b[0mWARNING ⚠️ /notebooks/yolo_final_dataset/images/train/a912ac8f44762b44a4916ad011437fbb.jpg: corrupt JPEG restored and saved\n",
            "\u001b[34m\u001b[1mtrain: \u001b[0mWARNING ⚠️ /notebooks/yolo_final_dataset/images/train/ac7b8662ed3fb8b116f5db729e0c5a50.jpg: corrupt JPEG restored and saved\n",
            "\u001b[34m\u001b[1mtrain: \u001b[0mWARNING ⚠️ /notebooks/yolo_final_dataset/images/train/ae14f65bd7744dbb8dc0931ee59fb619.jpg: corrupt JPEG restored and saved\n",
            "\u001b[34m\u001b[1mtrain: \u001b[0mWARNING ⚠️ /notebooks/yolo_final_dataset/images/train/b6c3bb6faa6ef9065bcf32683404e621.jpg: corrupt JPEG restored and saved\n",
            "\u001b[34m\u001b[1mtrain: \u001b[0mWARNING ⚠️ /notebooks/yolo_final_dataset/images/train/b70799e73139409aeba1392d03ef4be9.jpg: corrupt JPEG restored and saved\n",
            "\u001b[34m\u001b[1mtrain: \u001b[0mWARNING ⚠️ /notebooks/yolo_final_dataset/images/train/c28440d244bb289b61b19c6070657d6c.jpg: corrupt JPEG restored and saved\n",
            "\u001b[34m\u001b[1mtrain: \u001b[0mWARNING ⚠️ /notebooks/yolo_final_dataset/images/train/cdfa23ff0a31e26db5af2ea32a07317e.jpg: corrupt JPEG restored and saved\n",
            "\u001b[34m\u001b[1mtrain: \u001b[0mWARNING ⚠️ /notebooks/yolo_final_dataset/images/train/d37af747d93eb94c18d0c7150b845af2.jpg: corrupt JPEG restored and saved\n",
            "\u001b[34m\u001b[1mtrain: \u001b[0mWARNING ⚠️ /notebooks/yolo_final_dataset/images/train/d9005561d68c4a89f95a3257374a0b2f.jpg: corrupt JPEG restored and saved\n",
            "\u001b[34m\u001b[1mtrain: \u001b[0mWARNING ⚠️ /notebooks/yolo_final_dataset/images/train/e704da53011ed94a1644bec7ffc904e9.jpg: ignoring corrupt image/label: image file is truncated (4 bytes not processed)\n",
            "\u001b[34m\u001b[1mtrain: \u001b[0mWARNING ⚠️ /notebooks/yolo_final_dataset/images/train/f2ea4aad6f8980b2f9254cda9eb13e9b.jpg: ignoring corrupt image/label: image file is truncated (12 bytes not processed)\n",
            "\u001b[34m\u001b[1mtrain: \u001b[0mWARNING ⚠️ /notebooks/yolo_final_dataset/images/train/f6158735ad61f83ac6ad45e4032d3068.jpg: corrupt JPEG restored and saved\n",
            "\u001b[34m\u001b[1mtrain: \u001b[0mWARNING ⚠️ /notebooks/yolo_final_dataset/images/train/fe26e23dabe4618337df064573717487.jpg: corrupt JPEG restored and saved\n"
          ]
        },
        {
          "name": "stderr",
          "output_type": "stream",
          "text": [
            "\n"
          ]
        },
        {
          "name": "stdout",
          "output_type": "stream",
          "text": [
            "\u001b[34m\u001b[1mtrain: \u001b[0mNew cache created: /notebooks/yolo_final_dataset/labels/train.cache\n"
          ]
        },
        {
          "name": "stderr",
          "output_type": "stream",
          "text": [
            "\u001b[34m\u001b[1mval: \u001b[0mScanning /notebooks/yolo_final_dataset/labels/val... 1320 images, 0 backgrounds, 0 corrupt: 100%|██████████| 1320/1320 [00:01<00:00, 1030.24it/s]"
          ]
        },
        {
          "name": "stdout",
          "output_type": "stream",
          "text": [
            "\u001b[34m\u001b[1mval: \u001b[0mWARNING ⚠️ /notebooks/yolo_final_dataset/images/val/393ff29b0978ed06efe8911631e1791e.jpg: corrupt JPEG restored and saved\n",
            "\u001b[34m\u001b[1mval: \u001b[0mWARNING ⚠️ /notebooks/yolo_final_dataset/images/val/53407a519525715fe10f141958cd543a.jpg: corrupt JPEG restored and saved\n",
            "\u001b[34m\u001b[1mval: \u001b[0mWARNING ⚠️ /notebooks/yolo_final_dataset/images/val/92711e787a2bf1173dc4afb5f40418e4.jpg: corrupt JPEG restored and saved\n",
            "\u001b[34m\u001b[1mval: \u001b[0mWARNING ⚠️ /notebooks/yolo_final_dataset/images/val/c95b4fd51b689de2f0d7b161b11b7c9e.jpg: corrupt JPEG restored and saved\n",
            "\u001b[34m\u001b[1mval: \u001b[0mNew cache created: /notebooks/yolo_final_dataset/labels/val.cache\n"
          ]
        },
        {
          "name": "stderr",
          "output_type": "stream",
          "text": [
            "\n"
          ]
        },
        {
          "name": "stdout",
          "output_type": "stream",
          "text": [
            "Plotting labels to runs/detect/train/labels.jpg... \n",
            "\u001b[34m\u001b[1moptimizer:\u001b[0m 'optimizer=auto' found, ignoring 'lr0=0.01' and 'momentum=0.937' and determining best 'optimizer', 'lr0' and 'momentum' automatically... \n",
            "\u001b[34m\u001b[1moptimizer:\u001b[0m AdamW(lr=0.000196, momentum=0.9) with parameter groups 77 weight(decay=0.0), 84 weight(decay=0.0005), 83 bias(decay=0.0)\n",
            "\u001b[34m\u001b[1mTensorBoard: \u001b[0mmodel graph visualization added ✅\n",
            "Image sizes 640 train, 640 val\n",
            "Using 8 dataloader workers\n",
            "Logging results to \u001b[1mruns/detect/train\u001b[0m\n",
            "Starting training for 50 epochs...\n",
            "\n",
            "      Epoch    GPU_mem   box_loss   cls_loss   dfl_loss  Instances       Size\n"
          ]
        },
        {
          "name": "stderr",
          "output_type": "stream",
          "text": [
            "       1/50      7.06G      1.467       4.35      1.619         28        640: 100%|██████████| 671/671 [03:09<00:00,  3.54it/s]\n",
            "                 Class     Images  Instances      Box(P          R      mAP50  mAP50-95): 100%|██████████| 42/42 [00:15<00:00,  2.78it/s]\n"
          ]
        },
        {
          "name": "stdout",
          "output_type": "stream",
          "text": [
            "                   all       1320       2239      0.206     0.0843     0.0375     0.0305\n",
            "\n",
            "      Epoch    GPU_mem   box_loss   cls_loss   dfl_loss  Instances       Size\n"
          ]
        },
        {
          "name": "stderr",
          "output_type": "stream",
          "text": [
            "       2/50      7.04G     0.9328      3.216      1.251         28        640: 100%|██████████| 671/671 [03:08<00:00,  3.55it/s]\n",
            "                 Class     Images  Instances      Box(P          R      mAP50  mAP50-95): 100%|██████████| 42/42 [00:14<00:00,  2.99it/s]\n"
          ]
        },
        {
          "name": "stdout",
          "output_type": "stream",
          "text": [
            "                   all       1320       2239      0.223      0.204      0.115     0.0983\n",
            "\n",
            "      Epoch    GPU_mem   box_loss   cls_loss   dfl_loss  Instances       Size\n"
          ]
        },
        {
          "name": "stderr",
          "output_type": "stream",
          "text": [
            "       3/50      6.94G     0.8368      2.803      1.177         38        640: 100%|██████████| 671/671 [03:07<00:00,  3.59it/s]\n",
            "                 Class     Images  Instances      Box(P          R      mAP50  mAP50-95): 100%|██████████| 42/42 [00:12<00:00,  3.46it/s]\n"
          ]
        },
        {
          "name": "stdout",
          "output_type": "stream",
          "text": [
            "                   all       1320       2239      0.209      0.307      0.172      0.148\n",
            "\n",
            "      Epoch    GPU_mem   box_loss   cls_loss   dfl_loss  Instances       Size\n"
          ]
        },
        {
          "name": "stderr",
          "output_type": "stream",
          "text": [
            "       4/50      7.01G     0.7935      2.507      1.141         31        640: 100%|██████████| 671/671 [03:07<00:00,  3.58it/s]\n",
            "                 Class     Images  Instances      Box(P          R      mAP50  mAP50-95): 100%|██████████| 42/42 [00:12<00:00,  3.24it/s]\n"
          ]
        },
        {
          "name": "stdout",
          "output_type": "stream",
          "text": [
            "                   all       1320       2239      0.328      0.329       0.25      0.217\n",
            "\n",
            "      Epoch    GPU_mem   box_loss   cls_loss   dfl_loss  Instances       Size\n"
          ]
        },
        {
          "name": "stderr",
          "output_type": "stream",
          "text": [
            "       5/50      7.01G     0.7497      2.248      1.114         25        640: 100%|██████████| 671/671 [03:05<00:00,  3.61it/s]\n",
            "                 Class     Images  Instances      Box(P          R      mAP50  mAP50-95): 100%|██████████| 42/42 [00:12<00:00,  3.45it/s]\n"
          ]
        },
        {
          "name": "stdout",
          "output_type": "stream",
          "text": [
            "                   all       1320       2239      0.404      0.377      0.354      0.312\n",
            "\n",
            "      Epoch    GPU_mem   box_loss   cls_loss   dfl_loss  Instances       Size\n"
          ]
        },
        {
          "name": "stderr",
          "output_type": "stream",
          "text": [
            "       6/50      7.04G     0.7319      2.047      1.097         40        640: 100%|██████████| 671/671 [03:07<00:00,  3.59it/s]\n",
            "                 Class     Images  Instances      Box(P          R      mAP50  mAP50-95): 100%|██████████| 42/42 [00:12<00:00,  3.32it/s]\n"
          ]
        },
        {
          "name": "stdout",
          "output_type": "stream",
          "text": [
            "                   all       1320       2239      0.394      0.416      0.386       0.34\n",
            "\n",
            "      Epoch    GPU_mem   box_loss   cls_loss   dfl_loss  Instances       Size\n"
          ]
        },
        {
          "name": "stderr",
          "output_type": "stream",
          "text": [
            "       7/50      6.94G      0.709       1.89      1.081         33        640: 100%|██████████| 671/671 [03:06<00:00,  3.60it/s]\n",
            "                 Class     Images  Instances      Box(P          R      mAP50  mAP50-95): 100%|██████████| 42/42 [00:11<00:00,  3.64it/s]\n"
          ]
        },
        {
          "name": "stdout",
          "output_type": "stream",
          "text": [
            "                   all       1320       2239      0.448      0.455      0.446      0.394\n",
            "\n",
            "      Epoch    GPU_mem   box_loss   cls_loss   dfl_loss  Instances       Size\n"
          ]
        },
        {
          "name": "stderr",
          "output_type": "stream",
          "text": [
            "       8/50      7.01G     0.6827      1.755      1.068         25        640: 100%|██████████| 671/671 [03:06<00:00,  3.60it/s]\n",
            "                 Class     Images  Instances      Box(P          R      mAP50  mAP50-95): 100%|██████████| 42/42 [00:18<00:00,  2.22it/s]"
          ]
        },
        {
          "name": "stdout",
          "output_type": "stream",
          "text": [
            "                   all       1320       2239      0.539       0.47       0.49       0.44\n"
          ]
        },
        {
          "name": "stderr",
          "output_type": "stream",
          "text": [
            "\n"
          ]
        },
        {
          "name": "stdout",
          "output_type": "stream",
          "text": [
            "\n",
            "      Epoch    GPU_mem   box_loss   cls_loss   dfl_loss  Instances       Size\n"
          ]
        },
        {
          "name": "stderr",
          "output_type": "stream",
          "text": [
            "       9/50      6.99G     0.6739      1.635      1.057         44        640: 100%|██████████| 671/671 [03:10<00:00,  3.52it/s]\n",
            "                 Class     Images  Instances      Box(P          R      mAP50  mAP50-95): 100%|██████████| 42/42 [00:10<00:00,  3.90it/s]\n"
          ]
        },
        {
          "name": "stdout",
          "output_type": "stream",
          "text": [
            "                   all       1320       2239      0.529      0.507       0.53      0.471\n",
            "\n",
            "      Epoch    GPU_mem   box_loss   cls_loss   dfl_loss  Instances       Size\n"
          ]
        },
        {
          "name": "stderr",
          "output_type": "stream",
          "text": [
            "      10/50      7.02G     0.6572      1.545      1.049         37        640: 100%|██████████| 671/671 [03:22<00:00,  3.31it/s]\n",
            "                 Class     Images  Instances      Box(P          R      mAP50  mAP50-95): 100%|██████████| 42/42 [00:12<00:00,  3.28it/s]"
          ]
        },
        {
          "name": "stdout",
          "output_type": "stream",
          "text": [
            "                   all       1320       2239      0.588      0.524      0.562      0.506\n"
          ]
        },
        {
          "name": "stderr",
          "output_type": "stream",
          "text": [
            "\n"
          ]
        },
        {
          "name": "stdout",
          "output_type": "stream",
          "text": [
            "\n",
            "      Epoch    GPU_mem   box_loss   cls_loss   dfl_loss  Instances       Size\n"
          ]
        },
        {
          "name": "stderr",
          "output_type": "stream",
          "text": [
            "      11/50      6.93G     0.6437      1.453       1.04         50        640: 100%|██████████| 671/671 [03:27<00:00,  3.24it/s]\n",
            "                 Class     Images  Instances      Box(P          R      mAP50  mAP50-95): 100%|██████████| 42/42 [00:11<00:00,  3.51it/s]\n"
          ]
        },
        {
          "name": "stdout",
          "output_type": "stream",
          "text": [
            "                   all       1320       2239      0.613      0.526      0.581       0.52\n",
            "\n",
            "      Epoch    GPU_mem   box_loss   cls_loss   dfl_loss  Instances       Size\n"
          ]
        },
        {
          "name": "stderr",
          "output_type": "stream",
          "text": [
            "      12/50      7.01G     0.6451      1.381      1.039         24        640: 100%|██████████| 671/671 [03:58<00:00,  2.81it/s]\n",
            "                 Class     Images  Instances      Box(P          R      mAP50  mAP50-95): 100%|██████████| 42/42 [00:14<00:00,  2.88it/s]"
          ]
        },
        {
          "name": "stdout",
          "output_type": "stream",
          "text": [
            "                   all       1320       2239      0.592      0.584       0.62      0.554\n"
          ]
        },
        {
          "name": "stderr",
          "output_type": "stream",
          "text": [
            "\n"
          ]
        },
        {
          "name": "stdout",
          "output_type": "stream",
          "text": [
            "\n",
            "      Epoch    GPU_mem   box_loss   cls_loss   dfl_loss  Instances       Size\n"
          ]
        },
        {
          "name": "stderr",
          "output_type": "stream",
          "text": [
            "      13/50      7.02G     0.6316      1.311      1.031         27        640: 100%|██████████| 671/671 [03:57<00:00,  2.83it/s]\n",
            "                 Class     Images  Instances      Box(P          R      mAP50  mAP50-95): 100%|██████████| 42/42 [00:11<00:00,  3.55it/s]\n"
          ]
        },
        {
          "name": "stdout",
          "output_type": "stream",
          "text": [
            "                   all       1320       2239      0.656      0.566      0.635      0.571\n",
            "\n",
            "      Epoch    GPU_mem   box_loss   cls_loss   dfl_loss  Instances       Size\n"
          ]
        },
        {
          "name": "stderr",
          "output_type": "stream",
          "text": [
            "      14/50      7.03G     0.6193       1.26      1.026         26        640: 100%|██████████| 671/671 [03:43<00:00,  3.00it/s]\n",
            "                 Class     Images  Instances      Box(P          R      mAP50  mAP50-95): 100%|██████████| 42/42 [00:25<00:00,  1.64it/s]"
          ]
        },
        {
          "name": "stdout",
          "output_type": "stream",
          "text": [
            "                   all       1320       2239       0.72      0.559      0.655      0.591\n"
          ]
        },
        {
          "name": "stderr",
          "output_type": "stream",
          "text": [
            "\n"
          ]
        },
        {
          "name": "stdout",
          "output_type": "stream",
          "text": [
            "\n",
            "      Epoch    GPU_mem   box_loss   cls_loss   dfl_loss  Instances       Size\n"
          ]
        },
        {
          "name": "stderr",
          "output_type": "stream",
          "text": [
            "      15/50      6.92G      0.607       1.19      1.015         34        640: 100%|██████████| 671/671 [04:01<00:00,  2.78it/s]\n",
            "                 Class     Images  Instances      Box(P          R      mAP50  mAP50-95): 100%|██████████| 42/42 [00:21<00:00,  1.95it/s]\n"
          ]
        },
        {
          "name": "stdout",
          "output_type": "stream",
          "text": [
            "                   all       1320       2239      0.702      0.583      0.672      0.608\n",
            "\n",
            "      Epoch    GPU_mem   box_loss   cls_loss   dfl_loss  Instances       Size\n"
          ]
        },
        {
          "name": "stderr",
          "output_type": "stream",
          "text": [
            "      16/50      7.01G     0.5976      1.153      1.012         26        640: 100%|██████████| 671/671 [03:41<00:00,  3.02it/s]\n",
            "                 Class     Images  Instances      Box(P          R      mAP50  mAP50-95): 100%|██████████| 42/42 [00:25<00:00,  1.66it/s]"
          ]
        },
        {
          "name": "stdout",
          "output_type": "stream",
          "text": [
            "                   all       1320       2239      0.671      0.628      0.684      0.613\n"
          ]
        },
        {
          "name": "stderr",
          "output_type": "stream",
          "text": [
            "\n"
          ]
        },
        {
          "name": "stdout",
          "output_type": "stream",
          "text": [
            "\n",
            "      Epoch    GPU_mem   box_loss   cls_loss   dfl_loss  Instances       Size\n"
          ]
        },
        {
          "name": "stderr",
          "output_type": "stream",
          "text": [
            "      17/50      7.01G     0.5967      1.101       1.01         27        640: 100%|██████████| 671/671 [04:06<00:00,  2.72it/s]\n",
            "                 Class     Images  Instances      Box(P          R      mAP50  mAP50-95): 100%|██████████| 42/42 [00:19<00:00,  2.15it/s]\n"
          ]
        },
        {
          "name": "stdout",
          "output_type": "stream",
          "text": [
            "                   all       1320       2239      0.718      0.614        0.7      0.632\n",
            "\n",
            "      Epoch    GPU_mem   box_loss   cls_loss   dfl_loss  Instances       Size\n"
          ]
        },
        {
          "name": "stderr",
          "output_type": "stream",
          "text": [
            "      18/50      7.03G     0.5832      1.046      1.006         21        640: 100%|██████████| 671/671 [03:40<00:00,  3.04it/s]\n",
            "                 Class     Images  Instances      Box(P          R      mAP50  mAP50-95): 100%|██████████| 42/42 [00:11<00:00,  3.64it/s]"
          ]
        },
        {
          "name": "stdout",
          "output_type": "stream",
          "text": [
            "                   all       1320       2239      0.711      0.636      0.713      0.642\n"
          ]
        },
        {
          "name": "stderr",
          "output_type": "stream",
          "text": [
            "\n"
          ]
        },
        {
          "name": "stdout",
          "output_type": "stream",
          "text": [
            "\n",
            "      Epoch    GPU_mem   box_loss   cls_loss   dfl_loss  Instances       Size\n"
          ]
        },
        {
          "name": "stderr",
          "output_type": "stream",
          "text": [
            "      19/50      6.92G     0.5738      1.009      1.001         38        640: 100%|██████████| 671/671 [03:09<00:00,  3.54it/s]\n",
            "                 Class     Images  Instances      Box(P          R      mAP50  mAP50-95): 100%|██████████| 42/42 [00:10<00:00,  3.88it/s]"
          ]
        },
        {
          "name": "stdout",
          "output_type": "stream",
          "text": [
            "                   all       1320       2239      0.746      0.632      0.724      0.654\n"
          ]
        },
        {
          "name": "stderr",
          "output_type": "stream",
          "text": [
            "\n"
          ]
        },
        {
          "name": "stdout",
          "output_type": "stream",
          "text": [
            "\n",
            "      Epoch    GPU_mem   box_loss   cls_loss   dfl_loss  Instances       Size\n"
          ]
        },
        {
          "name": "stderr",
          "output_type": "stream",
          "text": [
            "      20/50         7G     0.5679     0.9796     0.9939         28        640: 100%|██████████| 671/671 [03:08<00:00,  3.56it/s]\n",
            "                 Class     Images  Instances      Box(P          R      mAP50  mAP50-95): 100%|██████████| 42/42 [00:11<00:00,  3.60it/s]"
          ]
        },
        {
          "name": "stdout",
          "output_type": "stream",
          "text": [
            "                   all       1320       2239      0.739      0.653       0.74      0.668\n"
          ]
        },
        {
          "name": "stderr",
          "output_type": "stream",
          "text": [
            "\n"
          ]
        },
        {
          "name": "stdout",
          "output_type": "stream",
          "text": [
            "\n",
            "      Epoch    GPU_mem   box_loss   cls_loss   dfl_loss  Instances       Size\n"
          ]
        },
        {
          "name": "stderr",
          "output_type": "stream",
          "text": [
            "      21/50      7.01G     0.5678     0.9573     0.9959         40        640: 100%|██████████| 671/671 [03:07<00:00,  3.57it/s]\n",
            "                 Class     Images  Instances      Box(P          R      mAP50  mAP50-95): 100%|██████████| 42/42 [00:10<00:00,  3.99it/s]"
          ]
        },
        {
          "name": "stdout",
          "output_type": "stream",
          "text": [
            "                   all       1320       2239      0.776      0.623      0.736      0.663\n"
          ]
        },
        {
          "name": "stderr",
          "output_type": "stream",
          "text": [
            "\n"
          ]
        },
        {
          "name": "stdout",
          "output_type": "stream",
          "text": [
            "\n",
            "      Epoch    GPU_mem   box_loss   cls_loss   dfl_loss  Instances       Size\n"
          ]
        },
        {
          "name": "stderr",
          "output_type": "stream",
          "text": [
            "      22/50      7.04G     0.5618     0.9197     0.9901         27        640: 100%|██████████| 671/671 [04:01<00:00,  2.78it/s]\n",
            "                 Class     Images  Instances      Box(P          R      mAP50  mAP50-95): 100%|██████████| 42/42 [00:16<00:00,  2.60it/s]\n"
          ]
        },
        {
          "name": "stdout",
          "output_type": "stream",
          "text": [
            "                   all       1320       2239      0.771      0.636      0.743      0.674\n",
            "\n",
            "      Epoch    GPU_mem   box_loss   cls_loss   dfl_loss  Instances       Size\n"
          ]
        },
        {
          "name": "stderr",
          "output_type": "stream",
          "text": [
            "      23/50      6.92G     0.5518     0.9012      0.986         36        640: 100%|██████████| 671/671 [03:54<00:00,  2.87it/s]\n",
            "                 Class     Images  Instances      Box(P          R      mAP50  mAP50-95): 100%|██████████| 42/42 [00:11<00:00,  3.60it/s]"
          ]
        },
        {
          "name": "stdout",
          "output_type": "stream",
          "text": [
            "                   all       1320       2239      0.762      0.645      0.747      0.676\n"
          ]
        },
        {
          "name": "stderr",
          "output_type": "stream",
          "text": [
            "\n"
          ]
        },
        {
          "name": "stdout",
          "output_type": "stream",
          "text": [
            "\n",
            "      Epoch    GPU_mem   box_loss   cls_loss   dfl_loss  Instances       Size\n"
          ]
        },
        {
          "name": "stderr",
          "output_type": "stream",
          "text": [
            "      24/50         7G     0.5563     0.8809     0.9851         29        640: 100%|██████████| 671/671 [03:07<00:00,  3.58it/s]\n",
            "                 Class     Images  Instances      Box(P          R      mAP50  mAP50-95): 100%|██████████| 42/42 [00:11<00:00,  3.59it/s]"
          ]
        },
        {
          "name": "stdout",
          "output_type": "stream",
          "text": [
            "                   all       1320       2239      0.792      0.659      0.758      0.691\n"
          ]
        },
        {
          "name": "stderr",
          "output_type": "stream",
          "text": [
            "\n"
          ]
        },
        {
          "name": "stdout",
          "output_type": "stream",
          "text": [
            "\n",
            "      Epoch    GPU_mem   box_loss   cls_loss   dfl_loss  Instances       Size\n"
          ]
        },
        {
          "name": "stderr",
          "output_type": "stream",
          "text": [
            "      25/50         7G     0.5356     0.8458     0.9751         35        640: 100%|██████████| 671/671 [03:08<00:00,  3.56it/s]\n",
            "                 Class     Images  Instances      Box(P          R      mAP50  mAP50-95): 100%|██████████| 42/42 [00:10<00:00,  3.94it/s]"
          ]
        },
        {
          "name": "stdout",
          "output_type": "stream",
          "text": [
            "                   all       1320       2239      0.805      0.654      0.768      0.696\n"
          ]
        },
        {
          "name": "stderr",
          "output_type": "stream",
          "text": [
            "\n"
          ]
        },
        {
          "name": "stdout",
          "output_type": "stream",
          "text": [
            "\n",
            "      Epoch    GPU_mem   box_loss   cls_loss   dfl_loss  Instances       Size\n"
          ]
        },
        {
          "name": "stderr",
          "output_type": "stream",
          "text": [
            "      26/50      7.03G      0.538     0.8248     0.9767         25        640: 100%|██████████| 671/671 [03:10<00:00,  3.53it/s]\n",
            "                 Class     Images  Instances      Box(P          R      mAP50  mAP50-95): 100%|██████████| 42/42 [00:11<00:00,  3.58it/s]"
          ]
        },
        {
          "name": "stdout",
          "output_type": "stream",
          "text": [
            "                   all       1320       2239       0.76      0.692      0.769      0.698\n"
          ]
        },
        {
          "name": "stderr",
          "output_type": "stream",
          "text": [
            "\n"
          ]
        },
        {
          "name": "stdout",
          "output_type": "stream",
          "text": [
            "\n",
            "      Epoch    GPU_mem   box_loss   cls_loss   dfl_loss  Instances       Size\n"
          ]
        },
        {
          "name": "stderr",
          "output_type": "stream",
          "text": [
            "      27/50      6.94G     0.5318     0.8029     0.9726         30        640: 100%|██████████| 671/671 [03:09<00:00,  3.54it/s]\n",
            "                 Class     Images  Instances      Box(P          R      mAP50  mAP50-95): 100%|██████████| 42/42 [00:11<00:00,  3.65it/s]"
          ]
        },
        {
          "name": "stdout",
          "output_type": "stream",
          "text": [
            "                   all       1320       2239      0.783      0.681      0.779      0.708\n"
          ]
        },
        {
          "name": "stderr",
          "output_type": "stream",
          "text": [
            "\n"
          ]
        },
        {
          "name": "stdout",
          "output_type": "stream",
          "text": [
            "\n",
            "      Epoch    GPU_mem   box_loss   cls_loss   dfl_loss  Instances       Size\n"
          ]
        },
        {
          "name": "stderr",
          "output_type": "stream",
          "text": [
            "      28/50         7G     0.5296     0.7815     0.9708         26        640: 100%|██████████| 671/671 [03:08<00:00,  3.56it/s]\n",
            "                 Class     Images  Instances      Box(P          R      mAP50  mAP50-95): 100%|██████████| 42/42 [00:12<00:00,  3.41it/s]"
          ]
        },
        {
          "name": "stdout",
          "output_type": "stream",
          "text": [
            "                   all       1320       2239      0.819      0.656      0.777      0.703\n"
          ]
        },
        {
          "name": "stderr",
          "output_type": "stream",
          "text": [
            "\n"
          ]
        },
        {
          "name": "stdout",
          "output_type": "stream",
          "text": [
            "\n",
            "      Epoch    GPU_mem   box_loss   cls_loss   dfl_loss  Instances       Size\n"
          ]
        },
        {
          "name": "stderr",
          "output_type": "stream",
          "text": [
            "      29/50      7.01G     0.5256     0.7708     0.9708         30        640: 100%|██████████| 671/671 [04:44<00:00,  2.36it/s]\n",
            "                 Class     Images  Instances      Box(P          R      mAP50  mAP50-95): 100%|██████████| 42/42 [00:34<00:00,  1.22it/s]\n"
          ]
        },
        {
          "name": "stdout",
          "output_type": "stream",
          "text": [
            "                   all       1320       2239      0.822      0.666      0.779      0.708\n",
            "\n",
            "      Epoch    GPU_mem   box_loss   cls_loss   dfl_loss  Instances       Size\n"
          ]
        },
        {
          "name": "stderr",
          "output_type": "stream",
          "text": [
            "      30/50      7.02G     0.5226     0.7519     0.9672         25        640: 100%|██████████| 671/671 [03:11<00:00,  3.50it/s]\n",
            "                 Class     Images  Instances      Box(P          R      mAP50  mAP50-95): 100%|██████████| 42/42 [00:12<00:00,  3.44it/s]"
          ]
        },
        {
          "name": "stdout",
          "output_type": "stream",
          "text": [
            "                   all       1320       2239       0.79      0.672      0.773      0.704\n"
          ]
        },
        {
          "name": "stderr",
          "output_type": "stream",
          "text": [
            "\n"
          ]
        },
        {
          "name": "stdout",
          "output_type": "stream",
          "text": [
            "\n",
            "      Epoch    GPU_mem   box_loss   cls_loss   dfl_loss  Instances       Size\n"
          ]
        },
        {
          "name": "stderr",
          "output_type": "stream",
          "text": [
            "      31/50      6.92G      0.518     0.7371     0.9656         27        640: 100%|██████████| 671/671 [03:08<00:00,  3.56it/s]\n",
            "                 Class     Images  Instances      Box(P          R      mAP50  mAP50-95): 100%|██████████| 42/42 [00:12<00:00,  3.27it/s]\n"
          ]
        },
        {
          "name": "stdout",
          "output_type": "stream",
          "text": [
            "                   all       1320       2239      0.807      0.693       0.79       0.72\n",
            "\n",
            "      Epoch    GPU_mem   box_loss   cls_loss   dfl_loss  Instances       Size\n"
          ]
        },
        {
          "name": "stderr",
          "output_type": "stream",
          "text": [
            "      32/50      7.01G     0.5079     0.7192     0.9626         28        640: 100%|██████████| 671/671 [03:07<00:00,  3.58it/s]\n",
            "                 Class     Images  Instances      Box(P          R      mAP50  mAP50-95): 100%|██████████| 42/42 [00:12<00:00,  3.49it/s]\n"
          ]
        },
        {
          "name": "stdout",
          "output_type": "stream",
          "text": [
            "                   all       1320       2239      0.831      0.672      0.787      0.718\n",
            "\n",
            "      Epoch    GPU_mem   box_loss   cls_loss   dfl_loss  Instances       Size\n"
          ]
        },
        {
          "name": "stderr",
          "output_type": "stream",
          "text": [
            "      33/50         7G     0.5108      0.717     0.9651         30        640: 100%|██████████| 671/671 [03:08<00:00,  3.55it/s]\n",
            "                 Class     Images  Instances      Box(P          R      mAP50  mAP50-95): 100%|██████████| 42/42 [00:11<00:00,  3.64it/s]"
          ]
        },
        {
          "name": "stdout",
          "output_type": "stream",
          "text": [
            "                   all       1320       2239      0.818       0.68      0.789      0.721\n"
          ]
        },
        {
          "name": "stderr",
          "output_type": "stream",
          "text": [
            "\n"
          ]
        },
        {
          "name": "stdout",
          "output_type": "stream",
          "text": [
            "\n",
            "      Epoch    GPU_mem   box_loss   cls_loss   dfl_loss  Instances       Size\n"
          ]
        },
        {
          "name": "stderr",
          "output_type": "stream",
          "text": [
            "      34/50      7.06G     0.5019     0.6909     0.9541         29        640: 100%|██████████| 671/671 [03:09<00:00,  3.55it/s]\n",
            "                 Class     Images  Instances      Box(P          R      mAP50  mAP50-95): 100%|██████████| 42/42 [00:11<00:00,  3.66it/s]"
          ]
        },
        {
          "name": "stdout",
          "output_type": "stream",
          "text": [
            "                   all       1320       2239       0.83      0.687      0.797      0.725\n"
          ]
        },
        {
          "name": "stderr",
          "output_type": "stream",
          "text": [
            "\n"
          ]
        },
        {
          "name": "stdout",
          "output_type": "stream",
          "text": [
            "\n",
            "      Epoch    GPU_mem   box_loss   cls_loss   dfl_loss  Instances       Size\n"
          ]
        },
        {
          "name": "stderr",
          "output_type": "stream",
          "text": [
            "      35/50      6.93G      0.496     0.6905     0.9559         35        640: 100%|██████████| 671/671 [03:30<00:00,  3.18it/s]\n",
            "                 Class     Images  Instances      Box(P          R      mAP50  mAP50-95): 100%|██████████| 42/42 [00:14<00:00,  2.93it/s]"
          ]
        },
        {
          "name": "stdout",
          "output_type": "stream",
          "text": [
            "                   all       1320       2239      0.796      0.714      0.798       0.73\n"
          ]
        },
        {
          "name": "stderr",
          "output_type": "stream",
          "text": [
            "\n"
          ]
        },
        {
          "name": "stdout",
          "output_type": "stream",
          "text": [
            "\n",
            "      Epoch    GPU_mem   box_loss   cls_loss   dfl_loss  Instances       Size\n"
          ]
        },
        {
          "name": "stderr",
          "output_type": "stream",
          "text": [
            "      36/50      7.03G     0.4969     0.6758     0.9538         24        640: 100%|██████████| 671/671 [03:22<00:00,  3.32it/s]\n",
            "                 Class     Images  Instances      Box(P          R      mAP50  mAP50-95): 100%|██████████| 42/42 [00:10<00:00,  3.85it/s]"
          ]
        },
        {
          "name": "stdout",
          "output_type": "stream",
          "text": [
            "                   all       1320       2239      0.817      0.693      0.795      0.725\n"
          ]
        },
        {
          "name": "stderr",
          "output_type": "stream",
          "text": [
            "\n"
          ]
        },
        {
          "name": "stdout",
          "output_type": "stream",
          "text": [
            "\n",
            "      Epoch    GPU_mem   box_loss   cls_loss   dfl_loss  Instances       Size\n"
          ]
        },
        {
          "name": "stderr",
          "output_type": "stream",
          "text": [
            "      37/50      6.98G     0.4912     0.6591     0.9498         35        640: 100%|██████████| 671/671 [03:08<00:00,  3.56it/s]\n",
            "                 Class     Images  Instances      Box(P          R      mAP50  mAP50-95): 100%|██████████| 42/42 [00:12<00:00,  3.31it/s]"
          ]
        },
        {
          "name": "stdout",
          "output_type": "stream",
          "text": [
            "                   all       1320       2239      0.804      0.706      0.795      0.725\n"
          ]
        },
        {
          "name": "stderr",
          "output_type": "stream",
          "text": [
            "\n"
          ]
        },
        {
          "name": "stdout",
          "output_type": "stream",
          "text": [
            "\n",
            "      Epoch    GPU_mem   box_loss   cls_loss   dfl_loss  Instances       Size\n"
          ]
        },
        {
          "name": "stderr",
          "output_type": "stream",
          "text": [
            "      38/50      7.03G     0.4869     0.6485     0.9481         23        640: 100%|██████████| 671/671 [03:07<00:00,  3.57it/s]\n",
            "                 Class     Images  Instances      Box(P          R      mAP50  mAP50-95): 100%|██████████| 42/42 [00:11<00:00,  3.52it/s]"
          ]
        },
        {
          "name": "stdout",
          "output_type": "stream",
          "text": [
            "                   all       1320       2239      0.813      0.689      0.793       0.72\n"
          ]
        },
        {
          "name": "stderr",
          "output_type": "stream",
          "text": [
            "\n"
          ]
        },
        {
          "name": "stdout",
          "output_type": "stream",
          "text": [
            "\n",
            "      Epoch    GPU_mem   box_loss   cls_loss   dfl_loss  Instances       Size\n"
          ]
        },
        {
          "name": "stderr",
          "output_type": "stream",
          "text": [
            "      39/50      6.93G     0.4881     0.6445     0.9482         28        640: 100%|██████████| 671/671 [03:10<00:00,  3.52it/s]\n",
            "                 Class     Images  Instances      Box(P          R      mAP50  mAP50-95): 100%|██████████| 42/42 [00:10<00:00,  3.93it/s]"
          ]
        },
        {
          "name": "stdout",
          "output_type": "stream",
          "text": [
            "                   all       1320       2239      0.848      0.679      0.802       0.73\n"
          ]
        },
        {
          "name": "stderr",
          "output_type": "stream",
          "text": [
            "\n"
          ]
        },
        {
          "name": "stdout",
          "output_type": "stream",
          "text": [
            "\n",
            "      Epoch    GPU_mem   box_loss   cls_loss   dfl_loss  Instances       Size\n"
          ]
        },
        {
          "name": "stderr",
          "output_type": "stream",
          "text": [
            "      40/50         7G     0.4829     0.6311     0.9462         78        640: 100%|██████████| 671/671 [03:10<00:00,  3.52it/s]\n",
            "                 Class     Images  Instances      Box(P          R      mAP50  mAP50-95): 100%|██████████| 42/42 [00:11<00:00,  3.81it/s]"
          ]
        },
        {
          "name": "stdout",
          "output_type": "stream",
          "text": [
            "                   all       1320       2239      0.854      0.674      0.803      0.731\n"
          ]
        },
        {
          "name": "stderr",
          "output_type": "stream",
          "text": [
            "\n"
          ]
        },
        {
          "name": "stdout",
          "output_type": "stream",
          "text": [
            "Closing dataloader mosaic\n",
            "\n",
            "      Epoch    GPU_mem   box_loss   cls_loss   dfl_loss  Instances       Size\n"
          ]
        },
        {
          "name": "stderr",
          "output_type": "stream",
          "text": [
            "      41/50         7G     0.3586     0.3605     0.8592         12        640: 100%|██████████| 671/671 [03:09<00:00,  3.55it/s]\n",
            "                 Class     Images  Instances      Box(P          R      mAP50  mAP50-95): 100%|██████████| 42/42 [00:12<00:00,  3.46it/s]\n"
          ]
        },
        {
          "name": "stdout",
          "output_type": "stream",
          "text": [
            "                   all       1320       2239      0.803        0.7      0.794      0.723\n",
            "\n",
            "      Epoch    GPU_mem   box_loss   cls_loss   dfl_loss  Instances       Size\n"
          ]
        },
        {
          "name": "stderr",
          "output_type": "stream",
          "text": [
            "      42/50      7.02G     0.3528     0.3565      0.855         11        640: 100%|██████████| 671/671 [03:08<00:00,  3.55it/s]\n",
            "                 Class     Images  Instances      Box(P          R      mAP50  mAP50-95): 100%|██████████| 42/42 [00:10<00:00,  3.87it/s]"
          ]
        },
        {
          "name": "stdout",
          "output_type": "stream",
          "text": [
            "                   all       1320       2239      0.793      0.707        0.8      0.727\n"
          ]
        },
        {
          "name": "stderr",
          "output_type": "stream",
          "text": [
            "\n"
          ]
        },
        {
          "name": "stdout",
          "output_type": "stream",
          "text": [
            "\n",
            "      Epoch    GPU_mem   box_loss   cls_loss   dfl_loss  Instances       Size\n"
          ]
        },
        {
          "name": "stderr",
          "output_type": "stream",
          "text": [
            "      43/50      6.91G     0.3527     0.3436     0.8552         14        640: 100%|██████████| 671/671 [03:07<00:00,  3.57it/s]\n",
            "                 Class     Images  Instances      Box(P          R      mAP50  mAP50-95): 100%|██████████| 42/42 [00:12<00:00,  3.29it/s]"
          ]
        },
        {
          "name": "stdout",
          "output_type": "stream",
          "text": [
            "                   all       1320       2239      0.825      0.692        0.8      0.728\n"
          ]
        },
        {
          "name": "stderr",
          "output_type": "stream",
          "text": [
            "\n"
          ]
        },
        {
          "name": "stdout",
          "output_type": "stream",
          "text": [
            "\n",
            "      Epoch    GPU_mem   box_loss   cls_loss   dfl_loss  Instances       Size\n"
          ]
        },
        {
          "name": "stderr",
          "output_type": "stream",
          "text": [
            "      44/50         7G     0.3467     0.3321     0.8519         11        640: 100%|██████████| 671/671 [03:07<00:00,  3.58it/s]\n",
            "                 Class     Images  Instances      Box(P          R      mAP50  mAP50-95): 100%|██████████| 42/42 [00:11<00:00,  3.73it/s]"
          ]
        },
        {
          "name": "stdout",
          "output_type": "stream",
          "text": [
            "                   all       1320       2239      0.817       0.69      0.801       0.73\n"
          ]
        },
        {
          "name": "stderr",
          "output_type": "stream",
          "text": [
            "\n"
          ]
        },
        {
          "name": "stdout",
          "output_type": "stream",
          "text": [
            "\n",
            "      Epoch    GPU_mem   box_loss   cls_loss   dfl_loss  Instances       Size\n"
          ]
        },
        {
          "name": "stderr",
          "output_type": "stream",
          "text": [
            "      45/50      6.99G     0.3457      0.326     0.8522         17        640: 100%|██████████| 671/671 [03:12<00:00,  3.49it/s]\n",
            "                 Class     Images  Instances      Box(P          R      mAP50  mAP50-95): 100%|██████████| 42/42 [00:11<00:00,  3.71it/s]"
          ]
        },
        {
          "name": "stdout",
          "output_type": "stream",
          "text": [
            "                   all       1320       2239      0.824      0.699      0.805      0.733\n"
          ]
        },
        {
          "name": "stderr",
          "output_type": "stream",
          "text": [
            "\n"
          ]
        },
        {
          "name": "stdout",
          "output_type": "stream",
          "text": [
            "\n",
            "      Epoch    GPU_mem   box_loss   cls_loss   dfl_loss  Instances       Size\n"
          ]
        },
        {
          "name": "stderr",
          "output_type": "stream",
          "text": [
            "      46/50      7.03G     0.3392     0.3178     0.8494         23        640: 100%|██████████| 671/671 [03:09<00:00,  3.54it/s]\n",
            "                 Class     Images  Instances      Box(P          R      mAP50  mAP50-95): 100%|██████████| 42/42 [00:10<00:00,  4.01it/s]"
          ]
        },
        {
          "name": "stdout",
          "output_type": "stream",
          "text": [
            "                   all       1320       2239      0.864      0.677      0.807      0.735\n"
          ]
        },
        {
          "name": "stderr",
          "output_type": "stream",
          "text": [
            "\n"
          ]
        },
        {
          "name": "stdout",
          "output_type": "stream",
          "text": [
            "\n",
            "      Epoch    GPU_mem   box_loss   cls_loss   dfl_loss  Instances       Size\n"
          ]
        },
        {
          "name": "stderr",
          "output_type": "stream",
          "text": [
            "      47/50      6.92G     0.3394     0.3138     0.8484         14        640: 100%|██████████| 671/671 [03:08<00:00,  3.56it/s]\n",
            "                 Class     Images  Instances      Box(P          R      mAP50  mAP50-95): 100%|██████████| 42/42 [00:11<00:00,  3.64it/s]"
          ]
        },
        {
          "name": "stdout",
          "output_type": "stream",
          "text": [
            "                   all       1320       2239      0.872      0.674      0.799      0.727\n"
          ]
        },
        {
          "name": "stderr",
          "output_type": "stream",
          "text": [
            "\n"
          ]
        },
        {
          "name": "stdout",
          "output_type": "stream",
          "text": [
            "\n",
            "      Epoch    GPU_mem   box_loss   cls_loss   dfl_loss  Instances       Size\n"
          ]
        },
        {
          "name": "stderr",
          "output_type": "stream",
          "text": [
            "      48/50      7.01G     0.3322     0.3063     0.8444         11        640: 100%|██████████| 671/671 [03:06<00:00,  3.59it/s]\n",
            "                 Class     Images  Instances      Box(P          R      mAP50  mAP50-95): 100%|██████████| 42/42 [00:11<00:00,  3.81it/s]"
          ]
        },
        {
          "name": "stdout",
          "output_type": "stream",
          "text": [
            "                   all       1320       2239      0.822      0.703      0.803      0.731\n"
          ]
        },
        {
          "name": "stderr",
          "output_type": "stream",
          "text": [
            "\n"
          ]
        },
        {
          "name": "stdout",
          "output_type": "stream",
          "text": [
            "\n",
            "      Epoch    GPU_mem   box_loss   cls_loss   dfl_loss  Instances       Size\n"
          ]
        },
        {
          "name": "stderr",
          "output_type": "stream",
          "text": [
            "      49/50      6.99G     0.3349     0.3023     0.8461         16        640: 100%|██████████| 671/671 [03:08<00:00,  3.56it/s]\n",
            "                 Class     Images  Instances      Box(P          R      mAP50  mAP50-95): 100%|██████████| 42/42 [00:11<00:00,  3.58it/s]"
          ]
        },
        {
          "name": "stdout",
          "output_type": "stream",
          "text": [
            "                   all       1320       2239      0.809      0.712      0.804      0.733\n"
          ]
        },
        {
          "name": "stderr",
          "output_type": "stream",
          "text": [
            "\n"
          ]
        },
        {
          "name": "stdout",
          "output_type": "stream",
          "text": [
            "\n",
            "      Epoch    GPU_mem   box_loss   cls_loss   dfl_loss  Instances       Size\n"
          ]
        },
        {
          "name": "stderr",
          "output_type": "stream",
          "text": [
            "      50/50      7.05G      0.329     0.2926     0.8432         26        640: 100%|██████████| 671/671 [03:07<00:00,  3.58it/s]\n",
            "                 Class     Images  Instances      Box(P          R      mAP50  mAP50-95): 100%|██████████| 42/42 [00:12<00:00,  3.44it/s]\n"
          ]
        },
        {
          "name": "stdout",
          "output_type": "stream",
          "text": [
            "                   all       1320       2239      0.814      0.707      0.805      0.735\n",
            "\n",
            "50 epochs completed in 2.988 hours.\n",
            "Optimizer stripped from runs/detect/train/weights/last.pt, 52.1MB\n",
            "Optimizer stripped from runs/detect/train/weights/best.pt, 52.1MB\n",
            "\n",
            "Validating runs/detect/train/weights/best.pt...\n",
            "Ultralytics YOLOv8.2.8 🚀 Python-3.11.7 torch-2.1.1+cu121 CUDA:0 (NVIDIA RTX A4000, 16109MiB)\n",
            "Model summary (fused): 218 layers, 25866973 parameters, 0 gradients, 78.8 GFLOPs\n"
          ]
        },
        {
          "name": "stderr",
          "output_type": "stream",
          "text": [
            "                 Class     Images  Instances      Box(P          R      mAP50  mAP50-95): 100%|██████████| 42/42 [00:13<00:00,  3.14it/s]\n"
          ]
        },
        {
          "name": "stdout",
          "output_type": "stream",
          "text": [
            "                   all       1320       2239      0.816      0.705      0.805      0.735\n",
            "                   A10       1320         59      0.789      0.824      0.874      0.796\n",
            "                 A400M       1320         43      0.837      0.628      0.781      0.729\n",
            "                 AG600       1320         20      0.947      0.901       0.99      0.959\n",
            "                  AV8B       1320         40      0.834      0.875      0.921      0.846\n",
            "                    B1       1320         60      0.824      0.778      0.849      0.756\n",
            "                    B2       1320         57      0.892      0.868      0.929       0.84\n",
            "                   B52       1320         47       0.78      0.702      0.787      0.694\n",
            "                 Be200       1320         24          1      0.745      0.793      0.745\n",
            "                  C130       1320        101       0.81      0.663      0.767      0.683\n",
            "                    C2       1320         81      0.915      0.914      0.962      0.927\n",
            "                   C17       1320         63       0.81      0.747      0.817      0.761\n",
            "                    C5       1320         35      0.859      0.771      0.841      0.762\n",
            "                    E2       1320         32      0.911      0.625      0.793      0.666\n",
            "                    E7       1320         14      0.892      0.786      0.936      0.906\n",
            "                EF2000       1320         55      0.681      0.544      0.647      0.601\n",
            "                  F117       1320         26       0.94      0.769      0.867        0.8\n",
            "                   F14       1320         42      0.927      0.609       0.78      0.743\n",
            "                   F15       1320        136       0.73      0.695      0.798      0.718\n",
            "                   F16       1320        200      0.666       0.51      0.704      0.593\n",
            "                   F18       1320         93       0.54      0.538      0.608      0.525\n",
            "                   F22       1320         46      0.653      0.655      0.647      0.534\n",
            "                   F35       1320        100      0.726      0.715      0.794      0.709\n",
            "                    F4       1320         52      0.762      0.673       0.77      0.699\n",
            "                 JAS39       1320         42      0.621      0.643      0.683      0.602\n",
            "                   MQ9       1320         29      0.926      0.897      0.904      0.825\n",
            "                 Mig31       1320         45       0.74      0.356      0.494      0.468\n",
            "            Mirage2000       1320         25      0.683       0.68      0.763      0.732\n",
            "                    P3       1320         38      0.876      0.711       0.86      0.729\n",
            "                   RQ4       1320         32      0.827       0.75      0.801      0.742\n",
            "                Rafale       1320         49      0.786      0.694      0.792      0.709\n",
            "                  SR71       1320         36      0.817      0.694       0.84       0.67\n",
            "                  Su34       1320         38      0.939      0.805      0.908       0.85\n",
            "                  Su57       1320         34       0.77      0.647       0.76      0.729\n",
            "                 Tu160       1320         38       0.79      0.605      0.776      0.735\n",
            "                  Tu95       1320         36       0.96      0.667      0.855      0.706\n",
            "               Tornado       1320         37      0.834      0.568       0.65      0.635\n",
            "                    U2       1320         25      0.751       0.76      0.804      0.773\n",
            "                   US2       1320         54      0.893      0.924      0.942      0.897\n",
            "                   V22       1320         71      0.912      0.731      0.845       0.73\n",
            "                  XB70       1320         15      0.731      0.867      0.921      0.831\n",
            "                  YF23       1320         10      0.878        0.8      0.927      0.876\n",
            "                Vulcan       1320         32      0.757      0.781       0.78      0.757\n",
            "                   J20       1320         35      0.875      0.857      0.913      0.909\n",
            "                 KC135       1320         18      0.806      0.778      0.813      0.709\n",
            "                   J10       1320         38      0.867      0.516      0.808      0.703\n",
            "                  Su25       1320         20      0.753      0.305      0.658      0.567\n",
            "                  Su24       1320         16      0.825      0.562      0.674      0.659\n",
            "Speed: 0.1ms preprocess, 3.2ms inference, 0.0ms loss, 1.7ms postprocess per image\n",
            "Results saved to \u001b[1mruns/detect/train\u001b[0m\n"
          ]
        }
      ],
      "source": [
        "results = yolo8_m_model.train(\n",
        "    data='/notebooks/training_data.yaml',\n",
        "    epochs=50)"
      ]
    },
    {
      "cell_type": "code",
      "source": [
        "results = yolo8_m_model.train(\n",
        "    data='/notebooks/training_data.yaml',\n",
        "    epochs=150)"
      ],
      "metadata": {
        "id": "OR4rfwHP20Gi"
      },
      "execution_count": null,
      "outputs": []
    },
    {
      "cell_type": "markdown",
      "source": [
        "## Model: yolo5mu.pt\n",
        "Epochs: 50\n",
        "\n",
        "Other hyper-parameters are being kept as default"
      ],
      "metadata": {
        "id": "zXGRdKlB2Hla"
      }
    },
    {
      "cell_type": "code",
      "source": [
        "yolo5_m_model = YOLO(\"yolov5mu.pt\")"
      ],
      "metadata": {
        "id": "3eYdx42i2Ogh"
      },
      "execution_count": null,
      "outputs": []
    },
    {
      "cell_type": "markdown",
      "source": [
        "### Combined/Default Augmentation:\n",
        "\n",
        "    hsv_h: 0.015\n",
        "    hsv_s: 0.7\n",
        "    hsv_v: 0.4\n",
        "    degrees: 0.0\n",
        "    translate: 0.1\n",
        "    scale: 0.5\n",
        "    shear: 0.0\n",
        "    perspective: 0.0\n",
        "    flipud: 0.0\n",
        "    fliplr: 0.5\n",
        "    bgr: 0.0\n",
        "    mosaic: 1.0\n",
        "    mixup: 0.0\n",
        "    copy_paste: 0.0\n",
        "    auto_augment: randaugment\n",
        "    erasing: 0.4\n",
        "    crop_fraction: 1.0"
      ],
      "metadata": {
        "id": "f9U3jGMo2j20"
      }
    },
    {
      "cell_type": "code",
      "source": [
        "results = yolo5_m_model.train(\n",
        "    data='/notebooks/training_data.yaml',\n",
        "    epochs=50)"
      ],
      "metadata": {
        "id": "xSwd5sv32h_2"
      },
      "execution_count": null,
      "outputs": []
    }
  ]
}